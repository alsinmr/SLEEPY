{
 "cells": [
  {
   "cell_type": "markdown",
   "id": "96ab66cb",
   "metadata": {},
   "source": [
    "# Example: CEST"
   ]
  },
  {
   "cell_type": "code",
   "execution_count": 1,
   "id": "f9d6ba05",
   "metadata": {},
   "outputs": [],
   "source": [
    "# git clone https://github.com/alsinmr/pyRelaxSim.git\n",
    "import sys\n",
    "sys.path.append('/Users/albertsmith/Documents/GitHub.nosync')\n",
    "sys.path.append('/Users/albertsmith/Documents/GitHub')\n",
    "import pyRelaxSim as RS\n",
    "import numpy as np\n",
    "import matplotlib.pyplot as plt"
   ]
  },
  {
   "cell_type": "markdown",
   "id": "cdca4fa5",
   "metadata": {},
   "source": [
    "## Build the spin-system "
   ]
  },
  {
   "cell_type": "code",
   "execution_count": 21,
   "id": "60beb5d8",
   "metadata": {},
   "outputs": [],
   "source": [
    "ex=RS.ExpSys(v0H=600,Nucs='13C',T_K=298)\n",
    "ex.set_inter(Type='CS',i=0,ppm=-10)\n",
    "ex1=ex.copy()\n",
    "ex1.set_inter(Type='CS',i=0,ppm=10)"
   ]
  },
  {
   "cell_type": "markdown",
   "id": "642dcd70",
   "metadata": {},
   "source": [
    "## Calculate the Liouvillian with exchange, add T1, T2 relaxation"
   ]
  },
  {
   "cell_type": "code",
   "execution_count": 43,
   "id": "268dd805",
   "metadata": {},
   "outputs": [
    {
     "name": "stdout",
     "output_type": "stream",
     "text": [
      "Normalized populations are [0.99009901 0.00990099]\n"
     ]
    }
   ],
   "source": [
    "kex=np.array([[-1e1,1e3],[1e1,-1e3]])\n",
    "L=RS.Liouvillian((ex,ex1),kex=kex)\n",
    "L.add_relax(Type='T1',i=0,T1=1.5,Peq=True)\n",
    "L.add_relax(Type='T2',i=0,T2=.1)\n",
    "d,v=np.linalg.eig(kex)\n",
    "pop=v[:,np.argmin(np.abs(d))]\n",
    "pop/=pop.sum()\n",
    "print(f'Normalized populations are {pop}')"
   ]
  },
  {
   "cell_type": "markdown",
   "id": "14f498b9",
   "metadata": {},
   "source": [
    "## Saturation propagators (sweep $\\nu_{off}$), Upi/2, Uprop"
   ]
  },
  {
   "cell_type": "code",
   "execution_count": 44,
   "id": "59c0fd43",
   "metadata": {},
   "outputs": [],
   "source": [
    "U=list()\n",
    "voff0=np.linspace(-3000,3000,200)\n",
    "for voff in voff0:\n",
    "    L.fields['13C']=(200,0,voff)\n",
    "    U.append(L.U(tf=.2))\n",
    "    \n",
    "L.fields['13C']=(100000,np.pi/2,0)\n",
    "Upi2=L.U(t0=0,tf=2.5e-6)\n",
    "L.fields['13C']=(0,0,0)\n",
    "Uprop=L.U(t0=0,tf=1/6000)\n"
   ]
  },
  {
   "cell_type": "markdown",
   "id": "2d02fab8",
   "metadata": {},
   "source": [
    "## Prepare and propagate the system at each offset"
   ]
  },
  {
   "cell_type": "code",
   "execution_count": 45,
   "id": "a68dddfd",
   "metadata": {},
   "outputs": [],
   "source": [
    "rho=RS.Rho(rho0='13Cz',detect='13Cp',L=L)\n",
    "I=list()\n",
    "for U0 in U:\n",
    "    rho.clear()\n",
    "    Upi2*U0*rho\n",
    "    rho.DetProp(Uprop,n=1024)\n",
    "    I.append(rho.FT[0].real)\n",
    "    "
   ]
  },
  {
   "cell_type": "markdown",
   "id": "13f346b4",
   "metadata": {},
   "source": [
    "## Plot a few of the spectra"
   ]
  },
  {
   "cell_type": "code",
   "execution_count": 46,
   "id": "6fd6010c",
   "metadata": {},
   "outputs": [
    {
     "data": {
      "image/png": "[encoded data removed]",
      "text/plain": [
       "<Figure size 432x288 with 1 Axes>"
      ]
     },
     "metadata": {
      "needs_background": "light"
     },
     "output_type": "display_data"
    }
   ],
   "source": [
    "ax=plt.figure().add_subplot(111)\n",
    "for I0 in I[::10]:\n",
    "    ax.plot(rho.v_axis,I0)"
   ]
  },
  {
   "cell_type": "code",
   "execution_count": 47,
   "id": "e553a38a",
   "metadata": {},
   "outputs": [],
   "source": [
    "S=np.array([I0.sum() for I0 in I])"
   ]
  },
  {
   "cell_type": "code",
   "execution_count": 48,
   "id": "64fdabc3",
   "metadata": {},
   "outputs": [
    {
     "data": {
      "text/plain": [
       "[<matplotlib.lines.Line2D at 0x7fe6b9109d00>]"
      ]
     },
     "execution_count": 48,
     "metadata": {},
     "output_type": "execute_result"
    },
    {
     "data": {
      "image/png": "[encoded data removed]",
      "text/plain": [
       "<Figure size 432x288 with 1 Axes>"
      ]
     },
     "metadata": {
      "needs_background": "light"
     },
     "output_type": "display_data"
    }
   ],
   "source": [
    "ax=plt.figure().add_subplot(111)\n",
    "ax.plot(voff0,S)"
   ]
  },
  {
   "cell_type": "markdown",
   "id": "8e146c01",
   "metadata": {},
   "source": [
    "## Same as above, but with CSA tensor"
   ]
  },
  {
   "cell_type": "code",
   "execution_count": 86,
   "id": "68f646b5",
   "metadata": {},
   "outputs": [],
   "source": [
    "ex=RS.ExpSys(v0H=600,vr=5000,Nucs='13C',T_K=298,pwdavg=RS.PowderAvg(q=2))\n",
    "ex.set_inter(Type='CS',i=0,ppm=-10)\n",
    "ex.set_inter(Type='CSA',i=0,delta=10000)\n",
    "ex1=ex.copy()\n",
    "ex1.set_inter(Type='CS',i=0,ppm=10)"
   ]
  },
  {
   "cell_type": "code",
   "execution_count": 87,
   "id": "407bc0fc",
   "metadata": {},
   "outputs": [
    {
     "name": "stdout",
     "output_type": "stream",
     "text": [
      "Normalized populations are [0.99009901 0.00990099]\n"
     ]
    }
   ],
   "source": [
    "kex=np.array([[-1e1,1e3],[1e1,-1e3]])\n",
    "L=RS.Liouvillian((ex,ex1),kex=kex)\n",
    "L.add_relax(Type='T1',i=0,T1=1.5,Peq=True)\n",
    "L.add_relax(Type='T2',i=0,T2=.1)\n",
    "d,v=np.linalg.eig(kex)\n",
    "pop=v[:,np.argmin(np.abs(d))]\n",
    "pop/=pop.sum()\n",
    "print(f'Normalized populations are {pop}')"
   ]
  },
  {
   "cell_type": "markdown",
   "id": "6d0318bb",
   "metadata": {},
   "source": [
    "## Same as before, but with attention to retain rotor syncronization"
   ]
  },
  {
   "cell_type": "code",
   "execution_count": 88,
   "id": "af848888",
   "metadata": {},
   "outputs": [],
   "source": [
    "U=list()\n",
    "voff0=np.linspace(-3000,3000,40)\n",
    "for voff in voff0[:1]:\n",
    "    voff=-10*600/4\n",
    "    L.fields['13C']=(200,0,voff)\n",
    "    U.append(L.U()**1000)\n",
    "\n",
    "L.fields['13C']=(0,0,0)    \n",
    "seq=RS.Sequence(L)\n",
    "seq.add_channel('13C',v1=[100000,0],t=[0,2.5e-6],phase=[np.pi/2,0])\n",
    "Upi2=seq.U(t0=0,tf=2.5e-6)\n",
    "Uprop=L.U(t0=2.5e-6,tf=L.taur+2.5e-6)"
   ]
  },
  {
   "cell_type": "markdown",
   "id": "a8ca77d5",
   "metadata": {},
   "source": [
    "## Prepare and propagate the system at each offset"
   ]
  },
  {
   "cell_type": "code",
   "execution_count": 91,
   "id": "78670d9e",
   "metadata": {},
   "outputs": [],
   "source": [
    "rho=RS.Rho(rho0='13Cz',detect='13Cp',L=L)\n",
    "I=list()\n",
    "for U0 in U:\n",
    "    rho.clear()\n",
    "    Upi2*rho\n",
    "    rho.DetProp(Uprop,n=1024)\n",
    "    I.append(rho.FT[0].real)\n",
    "    "
   ]
  },
  {
   "cell_type": "markdown",
   "id": "dde9ad3c",
   "metadata": {},
   "source": [
    "## Plot a few of the spectra"
   ]
  },
  {
   "cell_type": "code",
   "execution_count": 96,
   "id": "c587565e",
   "metadata": {},
   "outputs": [
    {
     "data": {
      "text/plain": [
       "2.5e-06"
      ]
     },
     "execution_count": 96,
     "metadata": {},
     "output_type": "execute_result"
    }
   ],
   "source": [
    "Upi2.Dt"
   ]
  },
  {
   "cell_type": "code",
   "execution_count": 74,
   "id": "f67ad3c9",
   "metadata": {},
   "outputs": [
    {
     "data": {
      "image/png": "[encoded data removed]",
      "text/plain": [
       "<Figure size 432x288 with 1 Axes>"
      ]
     },
     "metadata": {
      "needs_background": "light"
     },
     "output_type": "display_data"
    }
   ],
   "source": [
    "ax=plt.figure().add_subplot(111)\n",
    "for I0 in I[::10]:\n",
    "    ax.plot(rho.v_axis,I0)"
   ]
  },
  {
   "cell_type": "code",
   "execution_count": 75,
   "id": "b21cf35b",
   "metadata": {},
   "outputs": [
    {
     "data": {
      "text/plain": [
       "[<matplotlib.lines.Line2D at 0x7fe6ca4a9ee0>]"
      ]
     },
     "execution_count": 75,
     "metadata": {},
     "output_type": "execute_result"
    },
    {
     "data": {
      "image/png": "[encoded data removed]",
      "text/plain": [
       "<Figure size 432x288 with 1 Axes>"
      ]
     },
     "metadata": {
      "needs_background": "light"
     },
     "output_type": "display_data"
    }
   ],
   "source": [
    "S=np.array([I0.sum() for I0 in I])\n",
    "ax=plt.figure().add_subplot(111)\n",
    "ax.plot(voff0,S)"
   ]
  },
  {
   "cell_type": "code",
   "execution_count": 97,
   "id": "435c883f",
   "metadata": {},
   "outputs": [
    {
     "data": {
      "text/plain": [
       "<AxesSubplot:xlabel='$\\\\nu$ / kHz', ylabel='I / a.u.'>"
      ]
     },
     "execution_count": 97,
     "metadata": {},
     "output_type": "execute_result"
    },
    {
     "data": {
      "image/png": "[encoded data removed]",
      "text/plain": [
       "<Figure size 432x288 with 1 Axes>"
      ]
     },
     "metadata": {
      "needs_background": "light"
     },
     "output_type": "display_data"
    }
   ],
   "source": [
    "seq=RS.Sequence(L)\n",
    "seq.add_channel('13C',v1=[100000,0],t=[0,2.5e-6],phase=[np.pi/2,0])\n",
    "Upi2=seq.U(t0=0,tf=2.5e-6)\n",
    "U=L.U(t0=2.5e-6,tf=L.taur+2.5e-6)\n",
    "\n",
    "rho=RS.Rho(rho0='13Cz',detect='13Cp',L=L)\n",
    "Upi2*rho.DetProp(U,n=1024)\n",
    "rho.plot(FT=True,imag=False)"
   ]
  },
  {
   "cell_type": "code",
   "execution_count": 100,
   "id": "d2e16c17",
   "metadata": {},
   "outputs": [
    {
     "data": {
      "text/plain": [
       "array([[  -10.,    -0.,    -0.,    -0.,  1000.,     0.,     0.,     0.],\n",
       "       [   -0.,   -10.,    -0.,    -0.,     0.,  1000.,     0.,     0.],\n",
       "       [   -0.,    -0.,   -10.,    -0.,     0.,     0.,  1000.,     0.],\n",
       "       [   -0.,    -0.,    -0.,   -10.,     0.,     0.,     0.,  1000.],\n",
       "       [   10.,     0.,     0.,     0., -1000.,    -0.,    -0.,    -0.],\n",
       "       [    0.,    10.,     0.,     0.,    -0., -1000.,    -0.,    -0.],\n",
       "       [    0.,     0.,    10.,     0.,    -0.,    -0., -1000.,    -0.],\n",
       "       [    0.,     0.,     0.,    10.,    -0.,    -0.,    -0., -1000.]],\n",
       "      dtype=float32)"
      ]
     },
     "execution_count": 100,
     "metadata": {},
     "output_type": "execute_result"
    }
   ],
   "source": [
    "L.Lex"
   ]
  },
  {
   "cell_type": "code",
   "execution_count": 101,
   "id": "0e6f3257",
   "metadata": {},
   "outputs": [
    {
     "data": {
      "text/plain": [
       "1-spin system (13C)\n",
       "B0 = 14.092 T (600.000 MHz 1H frequency)\n",
       "rotor angle = 54.736 degrees\n",
       "rotor frequency = 5.0 kHz\n",
       "Temperature = 298 K\n",
       "Powder average with 49 angles, 100 steps per rotor period\n",
       "Interactions:\n",
       "\tCS on spin 0 with arguments: (ppm=-10)\n",
       "\tCSA on spin 0 with arguments: (delta=10000)"
      ]
     },
     "execution_count": 101,
     "metadata": {},
     "output_type": "execute_result"
    }
   ],
   "source": [
    "Upi2.expsys"
   ]
  },
  {
   "cell_type": "code",
   "execution_count": null,
   "id": "a4165549",
   "metadata": {},
   "outputs": [],
   "source": []
  }
 ],
 "metadata": {
  "kernelspec": {
   "display_name": "Python 3",
   "language": "python",
   "name": "python3"
  },
  "language_info": {
   "codemirror_mode": {
    "name": "ipython",
    "version": 3
   },
   "file_extension": ".py",
   "mimetype": "text/x-python",
   "name": "python",
   "nbconvert_exporter": "python",
   "pygments_lexer": "ipython3",
   "version": "3.8.8"
  }
 },
 "nbformat": 4,
 "nbformat_minor": 5
}
