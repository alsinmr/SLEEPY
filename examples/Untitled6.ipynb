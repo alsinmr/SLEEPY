{
 "cells": [
  {
   "cell_type": "markdown",
   "id": "e3db5dc2",
   "metadata": {},
   "source": [
    "# Example: Spinning Side Bands"
   ]
  },
  {
   "cell_type": "code",
   "execution_count": 1,
   "id": "79a7a0e6",
   "metadata": {},
   "outputs": [],
   "source": [
    "# git clone https://github.com/alsinmr/pyRelaxSim.git\n",
    "import sys\n",
    "sys.path.append('/Users/albertsmith/Documents/GitHub.nosync')\n",
    "sys.path.append('/Users/albertsmith/Documents/GitHub')\n",
    "import pyRelaxSim as RS\n",
    "import numpy as np\n",
    "import matplotlib.pyplot as plt"
   ]
  },
  {
   "cell_type": "markdown",
   "id": "41f9ab0c",
   "metadata": {},
   "source": [
    "## Define spin system"
   ]
  },
  {
   "cell_type": "code",
   "execution_count": 39,
   "id": "3e1c0923",
   "metadata": {},
   "outputs": [],
   "source": [
    "ex=RS.ExpSys(v0H=600,Nucs=['15N','1H'],vr=5000,pwdavg=RS.PowderAvg(q=5))\n",
    "ex.set_inter(Type='dipole',i0=0,i1=1,delta=20000)\n",
    "ex.set_inter(Type='CSA',i=0,delta=100)\n",
    "\n",
    "L=RS.Liouvillian((ex))\n",
    "L.add_relax(Type='T2',i=0,T2=.01)\n",
    "seq=RS.Sequence(L)\n",
    "seq.add_channel('1H',t=[0,L.taur/10],v1=100000)\n",
    "rho=RS.Rho(rho0='15Nx',detect='15Np',L=L)"
   ]
  },
  {
   "cell_type": "code",
   "execution_count": 40,
   "id": "b0adc591",
   "metadata": {},
   "outputs": [
    {
     "data": {
      "text/plain": [
       "<pyRelaxSim.Rho.Rho at 0x7f7b4c872cc0>"
      ]
     },
     "execution_count": 40,
     "metadata": {},
     "output_type": "execute_result"
    }
   ],
   "source": [
    "rho.DetProp(seq=seq,n=8192)"
   ]
  },
  {
   "cell_type": "code",
   "execution_count": 41,
   "id": "88f70ca9",
   "metadata": {},
   "outputs": [
    {
     "data": {
      "text/plain": [
       "<AxesSubplot:xlabel='$\\\\nu$ / kHz', ylabel='I / a.u.'>"
      ]
     },
     "execution_count": 41,
     "metadata": {},
     "output_type": "execute_result"
    },
    {
     "data": {
      "image/png": "[encoded data removed]",
      "text/plain": [
       "<Figure size 432x288 with 1 Axes>"
      ]
     },
     "metadata": {
      "needs_background": "light"
     },
     "output_type": "display_data"
    }
   ],
   "source": [
    "rho.plot(FT=True,imag=False,apodize=True)"
   ]
  },
  {
   "cell_type": "code",
   "execution_count": 28,
   "id": "b3e854c9",
   "metadata": {},
   "outputs": [
    {
     "data": {
      "text/plain": [
       "0.20479999999998152"
      ]
     },
     "execution_count": 28,
     "metadata": {},
     "output_type": "execute_result"
    }
   ],
   "source": [
    "rho.t"
   ]
  },
  {
   "cell_type": "code",
   "execution_count": 35,
   "id": "69232fa6",
   "metadata": {},
   "outputs": [
    {
     "data": {
      "text/plain": [
       "3000"
      ]
     },
     "execution_count": 35,
     "metadata": {},
     "output_type": "execute_result"
    }
   ],
   "source": [
    "50*60"
   ]
  },
  {
   "cell_type": "code",
   "execution_count": null,
   "id": "a135a63e",
   "metadata": {},
   "outputs": [],
   "source": []
  }
 ],
 "metadata": {
  "kernelspec": {
   "display_name": "Python 3",
   "language": "python",
   "name": "python3"
  },
  "language_info": {
   "codemirror_mode": {
    "name": "ipython",
    "version": 3
   },
   "file_extension": ".py",
   "mimetype": "text/x-python",
   "name": "python",
   "nbconvert_exporter": "python",
   "pygments_lexer": "ipython3",
   "version": "3.7.3"
  }
 },
 "nbformat": 4,
 "nbformat_minor": 5
}
