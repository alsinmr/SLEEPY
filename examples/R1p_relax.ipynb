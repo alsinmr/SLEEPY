{
 "cells": [
  {
   "cell_type": "markdown",
   "id": "fc55f994",
   "metadata": {},
   "source": [
    "# Example 2: R$_{1\\rho}$ Relaxation under MAS"
   ]
  },
  {
   "cell_type": "code",
   "execution_count": 1,
   "id": "231a53b2",
   "metadata": {},
   "outputs": [],
   "source": [
    "#!!pip install git+https://github.com/alsinmr/pyRelaxSim.git\n",
    "import sys\n",
    "sys.path.append('/Users/albertsmith/Documents/GitHub')\n",
    "import pyRelaxSim as RS\n",
    "import numpy as np\n",
    "import matplotlib.pyplot as plt"
   ]
  },
  {
   "cell_type": "markdown",
   "id": "8ba2265b",
   "metadata": {},
   "source": [
    "## Build the spin system\n",
    "For relaxation induced by exchange, we always build the spin system with at least two different sets of interactions. Not all interactions must change, but at least one interaction should be different– otherwise no relaxation will occure. Note that best-practice is to build the first spin-system, and copy it and only edit the parameters that are changed in the second spin-system.\n",
    "\n",
    "pyRelaxSim takes the main experimental parameters (excepting rf fields) upon initialization of a spin-system, and then interactions are added afterwards."
   ]
  },
  {
   "cell_type": "code",
   "execution_count": 2,
   "id": "b135a1fd",
   "metadata": {},
   "outputs": [],
   "source": [
    "ex0=RS.ExpSys(v0H=600,vr=45000,Nucs=['13C','1H'])     #1-spin system at 600 MHz (14.1 T)\n",
    "delta=RS.Tools.dipole_coupling(.109,'1H','13C')\n",
    "ex0.set_inter(Type='dipole',i0=0,i1=1,delta=delta)    #Dipole coupling\n",
    "ex1=ex0.copy()   #Copies the spin-system\n",
    "ex1.set_inter(Type='dipole',i0=0,i1=1,delta=delta,euler=[0,30*np.pi/180,0])   #30 degree hop of dipole coupling"
   ]
  },
  {
   "cell_type": "markdown",
   "id": "92e866c7",
   "metadata": {},
   "source": [
    "## Define Liouvillian, pulse sequence, initial density operator, detection operator"
   ]
  },
  {
   "cell_type": "code",
   "execution_count": 16,
   "id": "d4c641c1",
   "metadata": {},
   "outputs": [],
   "source": [
    "L=RS.Liouvillian((ex0,ex1))  #Liouvillian with both Hamiltonians\n",
    "seq=RS.Sequence(L)\n",
    "seq.add_channel('13C',v1=25000) #Constant field (25 kHz) applied\n",
    "rho=RS.Rho(rho0='13Cx',detect='13Cx',L=L)   #Specify by Nucleus type and operator type"
   ]
  },
  {
   "cell_type": "markdown",
   "id": "60e83f9b",
   "metadata": {},
   "source": [
    "## Calculate time-trace as a function of correlation time"
   ]
  },
  {
   "cell_type": "code",
   "execution_count": 17,
   "id": "3396ae22",
   "metadata": {},
   "outputs": [
    {
     "data": {
      "text/plain": [
       "<matplotlib.legend.Legend at 0x7fbd18adc518>"
      ]
     },
     "execution_count": 17,
     "metadata": {},
     "output_type": "execute_result"
    },
    {
     "data": {
      "image/png": "[encoded data removed]",
      "text/plain": [
       "<Figure size 432x288 with 1 Axes>"
      ]
     },
     "metadata": {
      "needs_background": "light"
     },
     "output_type": "display_data"
    }
   ],
   "source": [
    "tc0=np.logspace(-8,-3,6)   #Correlation time axis\n",
    "fig=plt.figure()\n",
    "ax=fig.add_subplot(111)  #Axis for plotting results\n",
    "for tc in tc0[:1]:\n",
    "    L.kex=[[-1/(2*tc),1/(2*tc)],[1/(2*tc),-1/(2*tc)]]\n",
    "    U=seq.U()**50  #Propagator for 50 rotor periods (L.U() returns 1 rotor period, **50 raises it to 50 rotor periods)\n",
    "    \n",
    "    rho.clear()  #Clear all information out of rho\n",
    "    rho.DetProp(U,n=100)  #Detect and then apply propagator 100 times (so 5000 rotor cycles)\n",
    "    rho.plot(ax=ax)\n",
    "ax.legend([r'$\\tau_c$='+f'{tc:.0e} s' for tc in tc0],loc='upper right')\n",
    "    "
   ]
  },
  {
   "cell_type": "markdown",
   "id": "b519fd21",
   "metadata": {},
   "source": [
    "## Calculate R$_{1\\rho}$ profile as a function of the applied field strength"
   ]
  },
  {
   "cell_type": "code",
   "execution_count": 22,
   "id": "7adbc86d",
   "metadata": {},
   "outputs": [],
   "source": [
    "tc0=np.logspace(-7,-4,4) #Correlation time axis"
   ]
  },
  {
   "cell_type": "code",
   "execution_count": 19,
   "id": "7be077d9",
   "metadata": {},
   "outputs": [
    {
     "data": {
      "text/plain": [
       "array([[9.9958444e-01+1.4187395e-15j, 0.0000000e+00+0.0000000e+00j,\n",
       "        1.0713225e-05+1.7447805e-02j, ..., 0.0000000e+00+0.0000000e+00j,\n",
       "        0.0000000e+00+0.0000000e+00j, 0.0000000e+00+0.0000000e+00j],\n",
       "       [0.0000000e+00+0.0000000e+00j, 9.9958372e-01-1.2275204e-03j,\n",
       "        0.0000000e+00+0.0000000e+00j, ..., 0.0000000e+00+0.0000000e+00j,\n",
       "        0.0000000e+00+0.0000000e+00j, 0.0000000e+00+0.0000000e+00j],\n",
       "       [1.0713226e-05+1.7447807e-02j, 0.0000000e+00+0.0000000e+00j,\n",
       "        9.9958354e-01-1.2275203e-03j, ..., 0.0000000e+00+0.0000000e+00j,\n",
       "        0.0000000e+00+0.0000000e+00j, 0.0000000e+00+0.0000000e+00j],\n",
       "       ...,\n",
       "       [0.0000000e+00+0.0000000e+00j, 0.0000000e+00+0.0000000e+00j,\n",
       "        0.0000000e+00+0.0000000e+00j, ..., 9.9955833e-01-7.2087944e-03j,\n",
       "        0.0000000e+00+0.0000000e+00j, 6.2915271e-05+1.7447660e-02j],\n",
       "       [0.0000000e+00+0.0000000e+00j, 0.0000000e+00+0.0000000e+00j,\n",
       "        0.0000000e+00+0.0000000e+00j, ..., 0.0000000e+00+0.0000000e+00j,\n",
       "        9.9955839e-01-7.2087953e-03j, 0.0000000e+00+0.0000000e+00j],\n",
       "       [0.0000000e+00+0.0000000e+00j, 0.0000000e+00+0.0000000e+00j,\n",
       "        0.0000000e+00+0.0000000e+00j, ..., 6.2915271e-05+1.7447660e-02j,\n",
       "        0.0000000e+00+0.0000000e+00j, 9.9958438e-01-6.3239575e-14j]],\n",
       "      dtype=complex64)"
      ]
     },
     "execution_count": 19,
     "metadata": {},
     "output_type": "execute_result"
    }
   ],
   "source": [
    "seq.U()[0]"
   ]
  },
  {
   "cell_type": "code",
   "execution_count": 25,
   "id": "1f43f273",
   "metadata": {},
   "outputs": [
    {
     "data": {
      "text/plain": [
       "0.0"
      ]
     },
     "execution_count": 25,
     "metadata": {},
     "output_type": "execute_result"
    }
   ],
   "source": [
    "U.Dt"
   ]
  },
  {
   "cell_type": "code",
   "execution_count": 24,
   "id": "d599b2df",
   "metadata": {},
   "outputs": [
    {
     "data": {
      "text/plain": [
       "array([0., 0., 0., 0., 0., 0., 0., 0., 0., 0., 0., 0., 0., 0., 0., 0., 0.,\n",
       "       0., 0., 0., 0., 0., 0., 0., 0., 0., 0., 0., 0., 0., 0., 0., 0., 0.,\n",
       "       0., 0., 0., 0., 0., 0., 0., 0., 0., 0., 0., 0., 0., 0., 0., 0., 0.,\n",
       "       0., 0., 0., 0., 0., 0., 0., 0., 0., 0., 0., 0., 0., 0., 0., 0., 0.,\n",
       "       0., 0., 0., 0., 0., 0., 0., 0., 0., 0., 0., 0., 0., 0., 0., 0., 0.,\n",
       "       0., 0., 0., 0., 0., 0., 0., 0., 0., 0., 0., 0., 0., 0., 0.])"
      ]
     },
     "execution_count": 24,
     "metadata": {},
     "output_type": "execute_result"
    }
   ],
   "source": [
    "rho.t_axis"
   ]
  },
  {
   "cell_type": "code",
   "execution_count": 26,
   "id": "74891b10",
   "metadata": {},
   "outputs": [],
   "source": [
    "U=seq.U()"
   ]
  },
  {
   "cell_type": "code",
   "execution_count": 29,
   "id": "c58965bb",
   "metadata": {},
   "outputs": [
    {
     "data": {
      "text/plain": [
       "False"
      ]
     },
     "execution_count": 29,
     "metadata": {},
     "output_type": "execute_result"
    }
   ],
   "source": [
    "U.isotropic"
   ]
  },
  {
   "cell_type": "code",
   "execution_count": null,
   "id": "b54b9c5f",
   "metadata": {},
   "outputs": [],
   "source": []
  }
 ],
 "metadata": {
  "kernelspec": {
   "display_name": "Python 3",
   "language": "python",
   "name": "python3"
  },
  "language_info": {
   "codemirror_mode": {
    "name": "ipython",
    "version": 3
   },
   "file_extension": ".py",
   "mimetype": "text/x-python",
   "name": "python",
   "nbconvert_exporter": "python",
   "pygments_lexer": "ipython3",
   "version": "3.7.3"
  }
 },
 "nbformat": 4,
 "nbformat_minor": 5
}
