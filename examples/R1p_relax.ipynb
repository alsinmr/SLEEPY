{
 "cells": [
  {
   "cell_type": "markdown",
   "id": "05b16aee",
   "metadata": {},
   "source": [
    "# Example 2: R$_{1\\rho}$ Relaxation under MAS"
   ]
  },
  {
   "cell_type": "code",
   "execution_count": 1,
   "id": "904659e2",
   "metadata": {},
   "outputs": [],
   "source": [
    "#!!pip install git+https://github.com/alsinmr/pyRelaxSim.git\n",
    "import sys\n",
    "sys.path.append('/Users/albertsmith/Documents/GitHub')\n",
    "import pyRelaxSim as RS\n",
    "import numpy as np\n",
    "import matplotlib.pyplot as plt"
   ]
  },
  {
   "cell_type": "markdown",
   "id": "4a0b8299",
   "metadata": {},
   "source": [
    "## Build the spin system\n",
    "For relaxation induced by exchange, we always build the spin system with at least two different sets of interactions. Not all interactions must change, but at least one interaction should be different– otherwise no relaxation will occure. Note that best-practice is to build the first spin-system, and copy it and only edit the parameters that are changed in the second spin-system.\n",
    "\n",
    "pyRelaxSim takes the main experimental parameters (excepting rf fields) upon initialization of a spin-system, and then interactions are added afterwards."
   ]
  },
  {
   "cell_type": "code",
   "execution_count": 2,
   "id": "57c37f1d",
   "metadata": {},
   "outputs": [],
   "source": [
    "ex0=RS.ExpSys(v0H=600,vr=45000,Nucs=['13C','1H'])     #1-spin system at 600 MHz (14.1 T)\n",
    "delta=RS.Tools.dipole_coupling(.109,'1H','13C')\n",
    "ex0.set_inter(Type='dipole',i0=0,i1=1,delta=delta)    #Dipole coupling\n",
    "ex1=ex0.copy()   #Copies the spin-system\n",
    "ex1.set_inter(Type='dipole',i0=0,i1=1,delta=delta,euler=[0,30*np.pi/180,0])   #30 degree hop of dipole coupling"
   ]
  },
  {
   "cell_type": "markdown",
   "id": "fe35c5fb",
   "metadata": {},
   "source": [
    "## Define Liouvillian, pulse sequence, initial density operator, detection operator"
   ]
  },
  {
   "cell_type": "code",
   "execution_count": 16,
   "id": "362a3f95",
   "metadata": {},
   "outputs": [],
   "source": [
    "L=RS.Liouvillian((ex0,ex1))  #Liouvillian with both Hamiltonians\n",
    "seq=RS.Sequence(L)\n",
    "seq.add_channel('13C',v1=44000) #Constant field (25 kHz) applied\n",
    "rho=RS.Rho(rho0='13Cx',detect='13Cx',L=L)   #Specify by Nucleus type and operator type"
   ]
  },
  {
   "cell_type": "markdown",
   "id": "a2ef4fbc",
   "metadata": {},
   "source": [
    "## Calculate time-trace as a function of correlation time"
   ]
  },
  {
   "cell_type": "code",
   "execution_count": 17,
   "id": "82d4afaa",
   "metadata": {},
   "outputs": [
    {
     "data": {
      "text/plain": [
       "<matplotlib.legend.Legend at 0x7fcaa8e55eb8>"
      ]
     },
     "execution_count": 17,
     "metadata": {},
     "output_type": "execute_result"
    },
    {
     "data": {
      "image/png": "[encoded data removed]",
      "text/plain": [
       "<Figure size 432x288 with 1 Axes>"
      ]
     },
     "metadata": {
      "needs_background": "light"
     },
     "output_type": "display_data"
    }
   ],
   "source": [
    "tc0=np.logspace(-8,-3,6)   #Correlation time axis\n",
    "fig=plt.figure()\n",
    "ax=fig.add_subplot(111)  #Axis for plotting results\n",
    "for tc in tc0[3:4]:\n",
    "    L.kex=[[-1/(2*tc),1/(2*tc)],[1/(2*tc),-1/(2*tc)]]\n",
    "    U=seq.U()**50  #Propagator for 50 rotor periods (L.U() returns 1 rotor period, **50 raises it to 50 rotor periods)\n",
    "    \n",
    "    rho.clear()  #Clear all information out of rho\n",
    "    rho.DetProp(U,n=200)  #Detect and then apply propagator 100 times (so 5000 rotor cycles)\n",
    "    rho.plot(ax=ax)\n",
    "ax.legend([r'$\\tau_c$='+f'{tc:.0e} s' for tc in tc0],loc='upper right')\n",
    "    "
   ]
  },
  {
   "cell_type": "markdown",
   "id": "3cab5063",
   "metadata": {},
   "source": [
    "## Calculate R$_{1\\rho}$ profile as a function of the applied field strength"
   ]
  },
  {
   "cell_type": "code",
   "execution_count": 14,
   "id": "4004e755",
   "metadata": {},
   "outputs": [],
   "source": [
    "tc0=np.logspace(-7,-4,4)\n",
    "v10=np.linspace(0,45000,21)\n",
    "R1p=list()  #Collect R1p results\n",
    "for tc in tc0:\n",
    "    R1p.append(list())\n",
    "    for v1 in v10:\n",
    "        seq.add_channel('13C',v1=v1)\n",
    "        L.kex=[[-1/(2*tc),1/(2*tc)],[1/(2*tc),-1/(2*tc)]]\n",
    "        U=seq.U()  #Propagator for 10 rotor periods\n",
    "        \n",
    "        rho.clear()  #Clear rho\n",
    "        R1p[-1].append(rho.extract_decay_rates(U,pwdavg=True))\n",
    "R1p=np.array(R1p)"
   ]
  },
  {
   "cell_type": "code",
   "execution_count": 15,
   "id": "78335b46",
   "metadata": {},
   "outputs": [
    {
     "data": {
      "text/plain": [
       "<matplotlib.legend.Legend at 0x7fcad1188e48>"
      ]
     },
     "execution_count": 15,
     "metadata": {},
     "output_type": "execute_result"
    },
    {
     "data": {
      "image/png": "[encoded data removed]",
      "text/plain": [
       "<Figure size 432x288 with 1 Axes>"
      ]
     },
     "metadata": {
      "needs_background": "light"
     },
     "output_type": "display_data"
    }
   ],
   "source": [
    "ax=plt.figure().add_subplot(111)\n",
    "for R1p0 in R1p:\n",
    "    ax.plot(v10/1e3,R1p0)\n",
    "ax.set_xlabel(r'$v_1$ / kHz')\n",
    "ax.set_ylabel(r'$R_{1\\rho}$ / s$^{-1}$')\n",
    "ax.legend([r'$\\tau_c$='+f'{tc:.0e} s' for tc in tc0],loc='lower left')"
   ]
  },
  {
   "cell_type": "code",
   "execution_count": null,
   "id": "1354e400",
   "metadata": {},
   "outputs": [],
   "source": []
  }
 ],
 "metadata": {
  "kernelspec": {
   "display_name": "Python 3",
   "language": "python",
   "name": "python3"
  },
  "language_info": {
   "codemirror_mode": {
    "name": "ipython",
    "version": 3
   },
   "file_extension": ".py",
   "mimetype": "text/x-python",
   "name": "python",
   "nbconvert_exporter": "python",
   "pygments_lexer": "ipython3",
   "version": "3.7.3"
  }
 },
 "nbformat": 4,
 "nbformat_minor": 5
}
