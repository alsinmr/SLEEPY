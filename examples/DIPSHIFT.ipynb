{
 "cells": [
  {
   "cell_type": "markdown",
   "id": "93788a29",
   "metadata": {},
   "source": [
    "# Example : DIPSHIFT"
   ]
  },
  {
   "cell_type": "code",
   "execution_count": 1,
   "id": "749e208f",
   "metadata": {},
   "outputs": [],
   "source": [
    "# git clone https://github.com/alsinmr/pyRelaxSim.git\n",
    "import sys\n",
    "sys.path.append('/Users/albertsmith/Documents/GitHub.nosync')\n",
    "sys.path.append('/Users/albertsmith/Documents/GitHub')\n",
    "import pyRelaxSim as RS\n",
    "import numpy as np\n",
    "import matplotlib.pyplot as plt\n",
    "RS.Defaults['parallel']=False"
   ]
  },
  {
   "cell_type": "markdown",
   "id": "876618f9",
   "metadata": {},
   "source": [
    "## Build the spin system\n",
    "For relaxation induced by exchange, we always build the spin system with at least two different sets of interactions. Not all interactions must change, but at least one interaction should be different– otherwise no relaxation will occure. Note that best-practice is to build the first spin-system, and copy it and only edit the parameters that are changed in the second spin-system.\n",
    "\n",
    "pyRelaxSim takes the main experimental parameters (excepting rf fields) upon initialization of a spin-system, and then interactions are added afterwards."
   ]
  },
  {
   "cell_type": "code",
   "execution_count": 8,
   "id": "bbbea970",
   "metadata": {},
   "outputs": [],
   "source": [
    "ex0=RS.ExpSys(v0H=600,vr=5000,Nucs=['13C','1H'],pwdavg=RS.PowderAvg(q=6))     #1-spin system at 600 MHz (14.1 T)\n",
    "delta=RS.Tools.dipole_coupling(.109,'1H','13C')       #Built-in dipole coupling calculator\n",
    "ex0.set_inter(Type='dipole',i0=0,i1=1,delta=delta)    #Dipole coupling\n",
    "ex1=ex0.copy()   #Copies the spin system\n",
    "ex1.set_inter(Type='dipole',i0=0,i1=1,delta=delta,euler=[0,90*np.pi/180,0])   #60 degree hop of dipole coupling"
   ]
  },
  {
   "cell_type": "markdown",
   "id": "0f2d6a7b",
   "metadata": {},
   "source": [
    "## Define Liouvillian, pulse sequence, initial density operator, detection operator"
   ]
  },
  {
   "cell_type": "code",
   "execution_count": 29,
   "id": "7a5eb870",
   "metadata": {},
   "outputs": [],
   "source": [
    "L=RS.Liouvillian((ex0,ex1))  #Liovillian with both Hamiltonians\n",
    "seq_homo=RS.Sequence(L)\n",
    "seq_het=RS.Sequence(L)\n",
    "seq_ref=RS.Sequence(L)\n",
    "v1pi=62500\n",
    "tpi=1/v1pi/2\n",
    "t_homo=L.taur-tpi/2\n",
    "tstep=t_homo/16\n",
    "veff=1/tstep\n",
    "magic=np.arccos(np.sqrt(1/3))\n",
    "v1=veff*np.sin(magic)\n",
    "voff=veff*np.cos(magic)\n",
    "\n",
    "t=\n",
    "\n",
    "\n",
    "seq_homo.add_channel('1H',v1=v1,voff=voff,t=[0,L.taur-tpi/2])   #Pulse sequence during homonuclear decoupling\n",
    "seq_het.add_channel('1H',v1=v1,t=[0,L.taur-tpi/2])  #Pulse sequence during heteronuclear decoupling\n",
    "seq_ref.add_channel('1H',v1=v1,t=[0,L.taur+tpi/2])  #Pulse sequence during refocusing\n",
    "seq_ref.add_channel('13C',v1=[v1pi,0,0],t=[0,tpi,tpi/2+L.taur])"
   ]
  },
  {
   "cell_type": "code",
   "execution_count": 30,
   "id": "28e43cda",
   "metadata": {},
   "outputs": [
    {
     "data": {
      "text/plain": [
       "66652.78211654906"
      ]
     },
     "execution_count": 30,
     "metadata": {},
     "output_type": "execute_result"
    }
   ],
   "source": [
    "v1"
   ]
  },
  {
   "cell_type": "markdown",
   "id": "24f27e8e",
   "metadata": {},
   "source": [
    "## Prepare propagators for different parts of the rotor period\n",
    "Rotor period broken into npts"
   ]
  },
  {
   "cell_type": "code",
   "execution_count": 10,
   "id": "748ffb10",
   "metadata": {},
   "outputs": [],
   "source": [
    "L.kex=[[-1e6,1e6],[1e6,-1e6]]\n",
    "npts=17\n",
    "Dt=(L.taur-tpi/2)/(npts-1)\n",
    "\n",
    "L.reset_prop_time()\n",
    "Uhet=list()\n",
    "for _ in range(npts-1):\n",
    "    Uhet.append(seq_het.U(Dt=Dt))\n",
    "L.reset_prop_time()\n",
    "Uhomo=list()\n",
    "for _ in range(npts-1):\n",
    "    Uhomo.append(seq_homo.U(Dt=Dt))\n",
    "Uref=seq_ref.U()"
   ]
  },
  {
   "cell_type": "markdown",
   "id": "faa30533",
   "metadata": {},
   "source": [
    "## Execute the sequence\n",
    "First prepare the initial density operator and detection operator. Then loop over the time points"
   ]
  },
  {
   "cell_type": "code",
   "execution_count": 11,
   "id": "6535a538",
   "metadata": {},
   "outputs": [
    {
     "data": {
      "text/plain": [
       "[<matplotlib.lines.Line2D at 0x7ff7008391f0>]"
      ]
     },
     "execution_count": 11,
     "metadata": {},
     "output_type": "execute_result"
    },
    {
     "data": {
      "image/png": "[encoded data removed]",
      "text/plain": [
       "<Figure size 432x288 with 1 Axes>"
      ]
     },
     "metadata": {
      "needs_background": "light"
     },
     "output_type": "display_data"
    }
   ],
   "source": [
    "rho=RS.Rho(rho0='13Cx',detect='13Cx')\n",
    "rho.clear()\n",
    "for k in range(npts):\n",
    "    rho.reset()\n",
    "    for m in range(k):\n",
    "        Uhomo[m]*rho\n",
    "    for m in range(k,npts-1):\n",
    "        Uhet[m]*rho\n",
    "    Uref*rho\n",
    "    rho()\n",
    "ax=plt.figure().add_subplot(111)\n",
    "#ax.plot(np.arange(npts)*Dt*1e6,rho.I[0].real)\n",
    "#ax.set_xlabel(r'$t$ / $\\mu$s')\n",
    "ax.plot(np.arange(npts)*Dt*1e6,rho.I[0].real)"
   ]
  },
  {
   "cell_type": "markdown",
   "id": "ac2e45ca",
   "metadata": {},
   "source": [
    "## Sweep over a range of correlation times"
   ]
  },
  {
   "cell_type": "markdown",
   "id": "86a933b0",
   "metadata": {},
   "source": [
    "Start by preparing all the propagators"
   ]
  },
  {
   "cell_type": "code",
   "execution_count": 29,
   "id": "9c297a28",
   "metadata": {},
   "outputs": [],
   "source": [
    "tc0=np.logspace(-8,-2,7)\n",
    "npts=33\n",
    "Dt=(L.taur-tpi/2)/(npts-1)\n",
    "Uhet0=list()\n",
    "Uhomo0=list()\n",
    "Uref0=list()\n",
    "for tc in tc0:\n",
    "    L.kex=[[-1/(2*tc0),1/(2*tc0)],[1/(2*tc0),-1/(2*tc0)]]\n",
    "\n",
    "    L.reset_prop_time()\n",
    "    Uhet0.append(list())\n",
    "    for _ in range(npts-1):\n",
    "        Uhet0[-1].append(seq_het.U(Dt=Dt))\n",
    "    L.reset_prop_time()\n",
    "    \n",
    "    Uhomo0.append(list())\n",
    "    for _ in range(npts-1):\n",
    "        Uhomo0[-1].append(seq_homo.U(Dt=Dt))\n",
    "    Uref0.append(seq_ref.U())"
   ]
  },
  {
   "cell_type": "code",
   "execution_count": 30,
   "id": "25612c62",
   "metadata": {},
   "outputs": [
    {
     "data": {
      "text/plain": [
       "(99, 1, 17)"
      ]
     },
     "execution_count": 30,
     "metadata": {},
     "output_type": "execute_result"
    }
   ],
   "source": [
    "rho.Ipwd.shape"
   ]
  },
  {
   "cell_type": "code",
   "execution_count": 65,
   "id": "59db6012",
   "metadata": {},
   "outputs": [],
   "source": [
    "U1=np.prod(Uhomo)"
   ]
  },
  {
   "cell_type": "code",
   "execution_count": 66,
   "id": "ba6bc7e6",
   "metadata": {},
   "outputs": [
    {
     "data": {
      "text/plain": [
       "0j"
      ]
     },
     "execution_count": 66,
     "metadata": {},
     "output_type": "execute_result"
    }
   ],
   "source": [
    "U1"
   ]
  },
  {
   "cell_type": "code",
   "execution_count": 71,
   "id": "3e3fdafc",
   "metadata": {},
   "outputs": [],
   "source": [
    "L.reset_prop_time()\n",
    "U1=L.Ueye()\n",
    "for U0 in Uhomo:\n",
    "    U1=U0*U1"
   ]
  },
  {
   "cell_type": "code",
   "execution_count": 72,
   "id": "a3a6a33b",
   "metadata": {},
   "outputs": [
    {
     "data": {
      "text/plain": [
       "0.00020825000000000002"
      ]
     },
     "execution_count": 72,
     "metadata": {},
     "output_type": "execute_result"
    }
   ],
   "source": [
    "U1.Dt"
   ]
  },
  {
   "cell_type": "code",
   "execution_count": 73,
   "id": "9265dea2",
   "metadata": {},
   "outputs": [
    {
     "data": {
      "text/plain": [
       "0.0002"
      ]
     },
     "execution_count": 73,
     "metadata": {},
     "output_type": "execute_result"
    }
   ],
   "source": [
    "U1.taur"
   ]
  },
  {
   "cell_type": "code",
   "execution_count": null,
   "id": "72b61c35",
   "metadata": {},
   "outputs": [],
   "source": []
  }
 ],
 "metadata": {
  "kernelspec": {
   "display_name": "Python 3",
   "language": "python",
   "name": "python3"
  },
  "language_info": {
   "codemirror_mode": {
    "name": "ipython",
    "version": 3
   },
   "file_extension": ".py",
   "mimetype": "text/x-python",
   "name": "python",
   "nbconvert_exporter": "python",
   "pygments_lexer": "ipython3",
   "version": "3.8.8"
  }
 },
 "nbformat": 4,
 "nbformat_minor": 5
}
