{
 "cells": [
  {
   "cell_type": "markdown",
   "id": "93788a29",
   "metadata": {},
   "source": [
    "# Example : DIPSHIFT"
   ]
  },
  {
   "cell_type": "code",
   "execution_count": 1,
   "id": "749e208f",
   "metadata": {},
   "outputs": [],
   "source": [
    "# git clone https://github.com/alsinmr/pyRelaxSim.git\n",
    "import sys\n",
    "sys.path.append('/Users/albertsmith/Documents/GitHub.nosync')\n",
    "sys.path.append('/Users/albertsmith/Documents/GitHub')\n",
    "import pyRelaxSim as RS\n",
    "import numpy as np\n",
    "import matplotlib.pyplot as plt"
   ]
  },
  {
   "cell_type": "markdown",
   "id": "876618f9",
   "metadata": {},
   "source": [
    "## Build the spin system\n",
    "For relaxation induced by exchange, we always build the spin system with at least two different sets of interactions. Not all interactions must change, but at least one interaction should be different– otherwise no relaxation will occure. Note that best-practice is to build the first spin-system, and copy it and only edit the parameters that are changed in the second spin-system.\n",
    "\n",
    "pyRelaxSim takes the main experimental parameters (excepting rf fields) upon initialization of a spin-system, and then interactions are added afterwards."
   ]
  },
  {
   "cell_type": "code",
   "execution_count": 33,
   "id": "bbbea970",
   "metadata": {},
   "outputs": [],
   "source": [
    "ex0=RS.ExpSys(v0H=600,vr=5000,Nucs=['13C','1H'],pwdavg=RS.PowderAvg(q=3))     #1-spin system at 600 MHz (14.1 T)\n",
    "delta=RS.Tools.dipole_coupling(.109,'1H','13C')       #Built-in dipole coupling calculator\n",
    "ex0.set_inter(Type='dipole',i0=0,i1=1,delta=delta)    #Dipole coupling\n",
    "ex1=ex0.copy()   #Copies the spin system\n",
    "ex1.set_inter(Type='dipole',i0=0,i1=1,delta=delta,euler=[0,60*np.pi/180,0])   #60 degree hop of dipole coupling"
   ]
  },
  {
   "cell_type": "markdown",
   "id": "0f2d6a7b",
   "metadata": {},
   "source": [
    "## Define Liouvillian, pulse sequence, initial density operator, detection operator"
   ]
  },
  {
   "cell_type": "code",
   "execution_count": 63,
   "id": "7a5eb870",
   "metadata": {},
   "outputs": [],
   "source": [
    "L=RS.Liouvillian((ex0))  #Liovillian with both Hamiltonians\n",
    "seq_homo=RS.Sequence(L)\n",
    "seq_het=RS.Sequence(L)\n",
    "seq_ref=RS.Sequence(L)\n",
    "v1=65000\n",
    "voff=v1/np.tan(np.arccos(np.sqrt(1/3)))\n",
    "v1pi=62500\n",
    "tpi=1/v1pi/2\n",
    "seq_homo.add_channel('1H',v1=v1,voff=voff,t=[0,L.taur-tpi/2])   #Pulse sequence during homonuclear decoupling\n",
    "seq_het.add_channel('1H',v1=v1,t=[0,L.taur-tpi/2])  #Pulse sequence during heteronuclear decoupling\n",
    "seq_ref.add_channel('1H',v1=v1,t=[0,L.taur+tpi/2])  #Pulse sequence during refocusing\n",
    "seq_ref.add_channel('13C',v1=[v1pi,0,0],t=[0,tpi,tpi/2+L.taur])"
   ]
  },
  {
   "cell_type": "markdown",
   "id": "24f27e8e",
   "metadata": {},
   "source": [
    "## Prepare propagators for different parts of the rotor period\n",
    "Rotor period broken into npts"
   ]
  },
  {
   "cell_type": "code",
   "execution_count": 74,
   "id": "748ffb10",
   "metadata": {},
   "outputs": [],
   "source": [
    "npts=17\n",
    "Dt=(L.taur-tpi/2)/(npts-1)\n",
    "\n",
    "L.reset_prop_time()\n",
    "Uhet=list()\n",
    "for _ in range(npts-1):\n",
    "    Uhet.append(seq_het.U(Dt=Dt))\n",
    "L.reset_prop_time()\n",
    "Uhomo=list()\n",
    "for _ in range(npts-1):\n",
    "    Uhomo.append(seq_homo.U(Dt=Dt))\n",
    "Uref=seq_ref.U()"
   ]
  },
  {
   "cell_type": "markdown",
   "id": "faa30533",
   "metadata": {},
   "source": [
    "## Execute the sequence\n",
    "First prepare the initial density operator and detection operator. Then loop over the time points"
   ]
  },
  {
   "cell_type": "code",
   "execution_count": 82,
   "id": "6535a538",
   "metadata": {},
   "outputs": [
    {
     "data": {
      "text/plain": [
       "Text(0.5, 0, '$t$ / $\\\\mu$s')"
      ]
     },
     "execution_count": 82,
     "metadata": {},
     "output_type": "execute_result"
    },
    {
     "data": {
      "image/png": "[encoded data removed]",
      "text/plain": [
       "<Figure size 432x288 with 1 Axes>"
      ]
     },
     "metadata": {
      "needs_background": "light"
     },
     "output_type": "display_data"
    }
   ],
   "source": [
    "rho=RS.Rho(rho0='13Cx',detect='13Cx',L=L)\n",
    "for k in range(npts):\n",
    "    rho.reset()\n",
    "    for m in range(k):\n",
    "        Uhomo[m]*rho\n",
    "    for m in range(k,npts-1):\n",
    "        Uhet[m]*rho\n",
    "    Uref*rho\n",
    "    rho()\n",
    "ax=plt.figure().add_subplot(111)\n",
    "ax.plot(np.arange(npts)*Dt*1e6,rho.I[0].real)\n",
    "ax.set_xlabel(r'$t$ / $\\mu$s')"
   ]
  },
  {
   "cell_type": "code",
   "execution_count": 81,
   "id": "62f9ac45",
   "metadata": {},
   "outputs": [
    {
     "data": {
      "text/plain": [
       "0.00020825000000000002"
      ]
     },
     "execution_count": 81,
     "metadata": {},
     "output_type": "execute_result"
    }
   ],
   "source": [
    "rho.t"
   ]
  },
  {
   "cell_type": "code",
   "execution_count": 62,
   "id": "9c297a28",
   "metadata": {},
   "outputs": [
    {
     "data": {
      "text/plain": [
       "0.0002"
      ]
     },
     "execution_count": 62,
     "metadata": {},
     "output_type": "execute_result"
    }
   ],
   "source": [
    "rho.taur"
   ]
  },
  {
   "cell_type": "code",
   "execution_count": 64,
   "id": "25612c62",
   "metadata": {},
   "outputs": [
    {
     "ename": "AttributeError",
     "evalue": "'numpy.complex64' object has no attribute 'Dt'",
     "output_type": "error",
     "traceback": [
      "\u001b[0;31m---------------------------------------------------------------------------\u001b[0m",
      "\u001b[0;31mAttributeError\u001b[0m                            Traceback (most recent call last)",
      "\u001b[0;32m<ipython-input-64-bb881a41554d>\u001b[0m in \u001b[0;36m<module>\u001b[0;34m()\u001b[0m\n\u001b[0;32m----> 1\u001b[0;31m \u001b[0;34m(\u001b[0m\u001b[0mnp\u001b[0m\u001b[0;34m.\u001b[0m\u001b[0mprod\u001b[0m\u001b[0;34m(\u001b[0m\u001b[0mUhomo\u001b[0m\u001b[0;34m)\u001b[0m\u001b[0;34m)\u001b[0m\u001b[0;34m.\u001b[0m\u001b[0mDt\u001b[0m\u001b[0;34m\u001b[0m\u001b[0;34m\u001b[0m\u001b[0m\n\u001b[0m",
      "\u001b[0;31mAttributeError\u001b[0m: 'numpy.complex64' object has no attribute 'Dt'"
     ]
    }
   ],
   "source": [
    "(np.prod(Uhomo)).Dt"
   ]
  },
  {
   "cell_type": "code",
   "execution_count": 65,
   "id": "59db6012",
   "metadata": {},
   "outputs": [],
   "source": [
    "U1=np.prod(Uhomo)"
   ]
  },
  {
   "cell_type": "code",
   "execution_count": 66,
   "id": "ba6bc7e6",
   "metadata": {},
   "outputs": [
    {
     "data": {
      "text/plain": [
       "0j"
      ]
     },
     "execution_count": 66,
     "metadata": {},
     "output_type": "execute_result"
    }
   ],
   "source": [
    "U1"
   ]
  },
  {
   "cell_type": "code",
   "execution_count": 71,
   "id": "3e3fdafc",
   "metadata": {},
   "outputs": [],
   "source": [
    "L.reset_prop_time()\n",
    "U1=L.Ueye()\n",
    "for U0 in Uhomo:\n",
    "    U1=U0*U1"
   ]
  },
  {
   "cell_type": "code",
   "execution_count": 72,
   "id": "a3a6a33b",
   "metadata": {},
   "outputs": [
    {
     "data": {
      "text/plain": [
       "0.00020825000000000002"
      ]
     },
     "execution_count": 72,
     "metadata": {},
     "output_type": "execute_result"
    }
   ],
   "source": [
    "U1.Dt"
   ]
  },
  {
   "cell_type": "code",
   "execution_count": 73,
   "id": "9265dea2",
   "metadata": {},
   "outputs": [
    {
     "data": {
      "text/plain": [
       "0.0002"
      ]
     },
     "execution_count": 73,
     "metadata": {},
     "output_type": "execute_result"
    }
   ],
   "source": [
    "U1.taur"
   ]
  },
  {
   "cell_type": "code",
   "execution_count": null,
   "id": "72b61c35",
   "metadata": {},
   "outputs": [],
   "source": []
  }
 ],
 "metadata": {
  "kernelspec": {
   "display_name": "Python 3",
   "language": "python",
   "name": "python3"
  },
  "language_info": {
   "codemirror_mode": {
    "name": "ipython",
    "version": 3
   },
   "file_extension": ".py",
   "mimetype": "text/x-python",
   "name": "python",
   "nbconvert_exporter": "python",
   "pygments_lexer": "ipython3",
   "version": "3.7.3"
  }
 },
 "nbformat": 4,
 "nbformat_minor": 5
}
