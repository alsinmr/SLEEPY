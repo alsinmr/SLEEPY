{
 "cells": [
  {
   "cell_type": "markdown",
   "id": "a39e651d",
   "metadata": {},
   "source": [
    "# Example : REDOR"
   ]
  },
  {
   "cell_type": "code",
   "execution_count": 70,
   "id": "79bf8a09",
   "metadata": {},
   "outputs": [],
   "source": [
    "# git clone https://github.com/alsinmr/pyRelaxSim.git\n",
    "import sys\n",
    "sys.path.append('/Users/albertsmith/Documents/GitHub.nosync')\n",
    "sys.path.append('/Users/albertsmith/Documents/GitHub')\n",
    "import pyRelaxSim as RS\n",
    "import numpy as np\n",
    "import matplotlib.pyplot as plt\n",
    "from numpy import pi"
   ]
  },
  {
   "cell_type": "markdown",
   "id": "7ab2ad27",
   "metadata": {},
   "source": [
    "## Build the spin system\n",
    "For relaxation induced by exchange, we always build the spin system with at least two different sets of interactions. Not all interactions must change, but at least one interaction should be different– otherwise no relaxation will occure. Note that best-practice is to build the first spin-system, and copy it and only edit the parameters that are changed in the second spin-system.\n",
    "\n",
    "pyRelaxSim takes the main experimental parameters (excepting rf fields) upon initialization of a spin-system, and then interactions are added afterwards."
   ]
  },
  {
   "cell_type": "code",
   "execution_count": 113,
   "id": "1ce309d4",
   "metadata": {},
   "outputs": [],
   "source": [
    "ex0=RS.ExpSys(v0H=600,vr=60000,Nucs=['15N','1H'],pwdavg=RS.PowderAvg(q=3))     #1-spin system at 600 MHz (14.1 T)\n",
    "delta=RS.Tools.dipole_coupling(.109,'1H','15N')       #Built-in dipole coupling calculator\n",
    "ex0.set_inter(Type='dipole',i0=0,i1=1,delta=delta)    #Dipole coupling\n",
    "ex1=ex0.copy()   #Copies the spin system\n",
    "ex1.set_inter(Type='dipole',i0=0,i1=1,delta=delta,euler=[0,60*np.pi/180,0])   #60 degree hop of dipole coupling"
   ]
  },
  {
   "cell_type": "markdown",
   "id": "efe6506f",
   "metadata": {},
   "source": [
    "## Define Liouvillian, pulse sequence, initial density operator, detection operator"
   ]
  },
  {
   "cell_type": "code",
   "execution_count": 114,
   "id": "79fe4af8",
   "metadata": {},
   "outputs": [],
   "source": [
    "L=RS.Liouvillian((ex0,ex1))  #Liovillian with both Hamiltonians\n",
    "firsthalf=RS.Sequence(L)\n",
    "secondhalf=RS.Sequence(L)\n",
    "refocus=RS.Sequence(L)\n",
    "v1H=150000\n",
    "v1C=100000\n",
    "tpiH=1/v1H/2\n",
    "tpiC=1/v1C/2\n",
    "shift=.15*L.taur\n",
    "t=[0,L.taur/2+shift-tpiH,L.taur/2+shift,L.taur-tpiH,L.taur]\n",
    "firsthalf.add_channel('1H',t=t,v1=[0,v1H,0,v1H,0],phase=[0,0,0,pi/2,0])   #Pulse sequence during homonuclear decoupling\n",
    "secondhalf.add_channel('1H',t=L.taur-np.array(t[::-1]),v1=[v1H,0,v1H,0,0],phase=[pi/2,0,0,0,0])\n",
    "refocus.add_channel('1H',t=[0,L.taur-tpiH/2,L.taur+tpiH/2,2*L.taur],v1=[0,v1H,0,0])\n",
    "refocus.add_channel('15N',t=[0,L.taur-tpiC/2,L.taur+tpiC/2,2*L.taur],v1=[0,v1C,0,0])"
   ]
  },
  {
   "cell_type": "markdown",
   "id": "a18fc067",
   "metadata": {},
   "source": [
    "## Visualize the parts of the sequence"
   ]
  },
  {
   "cell_type": "code",
   "execution_count": 146,
   "id": "c59fc67c",
   "metadata": {},
   "outputs": [
    {
     "data": {
      "image/png": "[encoded data removed]",
      "text/plain": [
       "<Figure size 432x288 with 6 Axes>"
      ]
     },
     "metadata": {
      "needs_background": "light"
     },
     "output_type": "display_data"
    }
   ],
   "source": [
    "_,ax=plt.subplots(2,3)\n",
    "\n",
    "for a,seq in zip(ax.T,[firsthalf,refocus,secondhalf]):\n",
    "    seq.plot(ax=a)"
   ]
  },
  {
   "cell_type": "markdown",
   "id": "c174ca8a",
   "metadata": {},
   "source": [
    "## Prepare the propagators"
   ]
  },
  {
   "cell_type": "code",
   "execution_count": 128,
   "id": "f983d50c",
   "metadata": {},
   "outputs": [],
   "source": [
    "L.kex=[[-.5e5,.5e5],[.5e5,-.5e5]]\n",
    "#L.kex=[[0,0],[0,0]]\n",
    "Uf=firsthalf.U()\n",
    "Uref=refocus.U()\n",
    "Us=secondhalf.U()"
   ]
  },
  {
   "cell_type": "markdown",
   "id": "a2703de5",
   "metadata": {},
   "source": [
    "## Execute the sequence\n",
    "First prepare the initial density operator and detection operator. Then loop over the time points"
   ]
  },
  {
   "cell_type": "code",
   "execution_count": 125,
   "id": "d18b926e",
   "metadata": {},
   "outputs": [
    {
     "data": {
      "text/plain": [
       "<AxesSubplot:xlabel='t / ms', ylabel='<15Nx>'>"
      ]
     },
     "execution_count": 125,
     "metadata": {},
     "output_type": "execute_result"
    },
    {
     "data": {
      "image/png": "[encoded data removed]",
      "text/plain": [
       "<Figure size 432x288 with 1 Axes>"
      ]
     },
     "metadata": {
      "needs_background": "light"
     },
     "output_type": "display_data"
    }
   ],
   "source": [
    "npts=75\n",
    "rho=RS.Rho(rho0='15Nx',detect='15Nx',L=L)\n",
    "Ufa=L.Ueye()\n",
    "Usa=L.Ueye()\n",
    "for k in range(npts):\n",
    "    rho.reset()         #Reset density operator back to initial state\n",
    "    (Usa*Uref*Ufa*rho)()   #Propagate by accumlated propagators and refocusing pulses. rho() acquires the result\n",
    "    Ufa=Uf*Ufa          #Accumlate propagator for first half (add another rotor period for each loop)\n",
    "    Usa=Us*Usa          #Accumlate propagator for second half\n",
    "    \n",
    "rho.plot()"
   ]
  },
  {
   "cell_type": "markdown",
   "id": "3a6542a6",
   "metadata": {},
   "source": [
    "## Add exchange, compare different correlation times"
   ]
  },
  {
   "cell_type": "markdown",
   "id": "21ade851",
   "metadata": {},
   "source": [
    "### New Liouvillian, new pulses"
   ]
  },
  {
   "cell_type": "code",
   "execution_count": 147,
   "id": "45505ed2",
   "metadata": {},
   "outputs": [],
   "source": [
    "ex0=RS.ExpSys(v0H=600,vr=60000,Nucs=['15N','1H'],pwdavg=RS.PowderAvg(q=3))     #1-spin system at 600 MHz (14.1 T)\n",
    "delta=RS.Tools.dipole_coupling(.109,'1H','15N')       #Built-in dipole coupling calculator\n",
    "ex0.set_inter(Type='dipole',i0=0,i1=1,delta=delta)    #Dipole coupling\n",
    "ex1=ex0.copy()   #Copies the spin system\n",
    "ex1.set_inter(Type='dipole',i0=0,i1=1,delta=delta,euler=[0,60*np.pi/180,0])   #60 degree hop of dipole coupling\n",
    "\n",
    "L=RS.Liouvillian((ex0,ex1))  #Liovillian with both Hamiltonians\n",
    "firsthalf=RS.Sequence(L)\n",
    "secondhalf=RS.Sequence(L)\n",
    "refocus=RS.Sequence(L)\n",
    "v1H=150000\n",
    "v1C=100000\n",
    "tpiH=1/v1H/2\n",
    "tpiC=1/v1C/2\n",
    "shift=.15*L.taur\n",
    "t=[0,L.taur/2+shift-tpiH,L.taur/2+shift,L.taur-tpiH,L.taur]\n",
    "firsthalf.add_channel('1H',t=t,v1=[0,v1H,0,v1H,0],phase=[0,0,0,pi/2,0])   #Pulse sequence during homonuclear decoupling\n",
    "secondhalf.add_channel('1H',t=L.taur-np.array(t[::-1]),v1=[v1H,0,v1H,0,0],phase=[pi/2,0,0,0,0])\n",
    "refocus.add_channel('1H',t=[0,L.taur-tpiH/2,L.taur+tpiH/2,2*L.taur],v1=[0,v1H,0,0])\n",
    "refocus.add_channel('15N',t=[0,L.taur-tpiC/2,L.taur+tpiC/2,2*L.taur],v1=[0,v1C,0,0])"
   ]
  },
  {
   "cell_type": "markdown",
   "id": "43eb78bb",
   "metadata": {},
   "source": [
    "### Obtain propagators for different correlation times"
   ]
  },
  {
   "cell_type": "code",
   "execution_count": 150,
   "id": "100d5d54",
   "metadata": {},
   "outputs": [],
   "source": [
    "tc0=np.logspace(-9,-3,4)\n",
    "Uf=list()\n",
    "Uref=list()\n",
    "Us=list()\n",
    "for tc in tc0:\n",
    "    L.kex=[[-1/(2*tc),1/(2*tc)],[1/(2*tc),-1/(2*tc)]]\n",
    "    L.reset_prop_time()\n",
    "    Uf.append(firsthalf.U())\n",
    "    Uref.append(refocus.U())\n",
    "    Us.append(secondhalf.U())"
   ]
  },
  {
   "cell_type": "markdown",
   "id": "07d5cbe9",
   "metadata": {},
   "source": [
    "## Execute the sequence"
   ]
  },
  {
   "cell_type": "code",
   "execution_count": 152,
   "id": "3bcdd988",
   "metadata": {},
   "outputs": [
    {
     "data": {
      "text/plain": [
       "<matplotlib.legend.Legend at 0x7f99a86833c8>"
      ]
     },
     "execution_count": 152,
     "metadata": {},
     "output_type": "execute_result"
    },
    {
     "data": {
      "image/png": "[encoded data removed]",
      "text/plain": [
       "<Figure size 432x288 with 1 Axes>"
      ]
     },
     "metadata": {
      "needs_background": "light"
     },
     "output_type": "display_data"
    }
   ],
   "source": [
    "rho=RS.Rho(rho0='15Nx',detect='15Nx',L=L)\n",
    "ax=plt.figure().add_subplot(111)\n",
    "\n",
    "npts=75\n",
    "\n",
    "for Uf0,Uref0,Us0 in zip(Uf,Uref,Us):\n",
    "    rho.clear()\n",
    "    L.reset_prop_time()\n",
    "    \n",
    "    rho=RS.Rho(rho0='15Nx',detect='15Nx',L=L)\n",
    "    Ufa=L.Ueye()\n",
    "    Usa=L.Ueye()\n",
    "    for k in range(npts):\n",
    "        rho.reset()         #Reset density operator back to initial state\n",
    "        (Usa*Uref0*Ufa*rho)()   #Propagate by accumlated propagators and refocusing pulses. rho() acquires the result\n",
    "        Ufa=Uf0*Ufa          #Accumlate propagator for first half (add another rotor period for each loop)\n",
    "        Usa=Us0*Usa          #Accumlate propagator for second half\n",
    "        \n",
    "    rho.plot(ax=ax)\n",
    "    \n",
    "    \n",
    "ax.legend([r'$\\tau_c$='+f'{tc:.0e} s' for tc in tc0],loc='upper right')"
   ]
  },
  {
   "cell_type": "code",
   "execution_count": null,
   "id": "901fa255",
   "metadata": {},
   "outputs": [],
   "source": []
  }
 ],
 "metadata": {
  "kernelspec": {
   "display_name": "Python 3",
   "language": "python",
   "name": "python3"
  },
  "language_info": {
   "codemirror_mode": {
    "name": "ipython",
    "version": 3
   },
   "file_extension": ".py",
   "mimetype": "text/x-python",
   "name": "python",
   "nbconvert_exporter": "python",
   "pygments_lexer": "ipython3",
   "version": "3.7.3"
  }
 },
 "nbformat": 4,
 "nbformat_minor": 5
}
