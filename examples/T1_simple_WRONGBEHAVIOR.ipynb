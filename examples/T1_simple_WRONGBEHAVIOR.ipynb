{
 "cells": [
  {
   "cell_type": "code",
   "execution_count": 1,
   "id": "035d5d7e",
   "metadata": {},
   "outputs": [],
   "source": [
    "import matplotlib.pyplot as plt\n",
    "import sys\n",
    "sys.path.append('/Users/albertsmith/Documents/GitHub.nosync')\n",
    "sys.path.append('/Users/albertsmith/Documents/GitHub')\n",
    "import pyRelaxSim as RS\n",
    "import numpy as np\n",
    "from numpy import pi"
   ]
  },
  {
   "cell_type": "code",
   "execution_count": 8,
   "id": "4b9a3b1f",
   "metadata": {
    "scrolled": true
   },
   "outputs": [
    {
     "data": {
      "text/plain": [
       "<AxesSubplot:xlabel='t / ms', ylabel='<S0z>'>"
      ]
     },
     "execution_count": 8,
     "metadata": {},
     "output_type": "execute_result"
    },
    {
     "data": {
      "image/png": "[encoded data removed]",
      "text/plain": [
       "<Figure size 432x288 with 1 Axes>"
      ]
     },
     "metadata": {
      "needs_background": "light"
     },
     "output_type": "display_data"
    }
   ],
   "source": [
    "ex0=RS.ExpSys(v0H=600,vr=0,Nucs=['13C','1H','13C'],pwdavg=RS.PowderAvg(q=3)[25],n_gamma=1)\n",
    "ex0.set_inter(Type='CS',i=0,ppm=4)\n",
    "L=RS.Liouvillian(ex0)\n",
    "L.add_relax(Type='T1',i=0,T1=1,Peq=True)\n",
    "L.add_relax(Type='T2',i=0,T2=1)\n",
    "# L.add_relax(Type='T1',i=1,T1=1,Peq=True)\n",
    "# L.add_relax(Type='T2',i=1,T2=1)\n",
    "U=L.U(Dt=.1)\n",
    "rho=RS.Rho(rho0='S0z',detect='S0z')\n",
    "rho.DetProp(U,n=100)\n",
    "rho.plot()"
   ]
  },
  {
   "cell_type": "code",
   "execution_count": 9,
   "id": "49bf4836",
   "metadata": {},
   "outputs": [
    {
     "data": {
      "text/plain": [
       "array([1.21512887e-05, 4.83145275e-05, 1.21512887e-05])"
      ]
     },
     "execution_count": 9,
     "metadata": {},
     "output_type": "execute_result"
    }
   ],
   "source": [
    "ex0.Peq"
   ]
  },
  {
   "cell_type": "code",
   "execution_count": 4,
   "id": "38cbec22",
   "metadata": {},
   "outputs": [
    {
     "data": {
      "text/plain": [
       "(0.998557617645795+0j)"
      ]
     },
     "execution_count": 4,
     "metadata": {},
     "output_type": "execute_result"
    }
   ],
   "source": [
    "rho.I[0,-1]/ex0.Peq[0]"
   ]
  },
  {
   "cell_type": "code",
   "execution_count": 5,
   "id": "bee95f57",
   "metadata": {},
   "outputs": [
    {
     "data": {
      "text/plain": [
       "(1, 100)"
      ]
     },
     "execution_count": 5,
     "metadata": {},
     "output_type": "execute_result"
    }
   ],
   "source": [
    "rho.I.shape"
   ]
  },
  {
   "cell_type": "code",
   "execution_count": 6,
   "id": "e4c5dd13",
   "metadata": {},
   "outputs": [
    {
     "data": {
      "text/plain": [
       "1.8666666666666665"
      ]
     },
     "execution_count": 6,
     "metadata": {},
     "output_type": "execute_result"
    }
   ],
   "source": [
    "1.4e-6/4.8e-5*64"
   ]
  },
  {
   "cell_type": "code",
   "execution_count": null,
   "id": "d3a1a79b",
   "metadata": {},
   "outputs": [],
   "source": []
  }
 ],
 "metadata": {
  "kernelspec": {
   "display_name": "Python 3",
   "language": "python",
   "name": "python3"
  },
  "language_info": {
   "codemirror_mode": {
    "name": "ipython",
    "version": 3
   },
   "file_extension": ".py",
   "mimetype": "text/x-python",
   "name": "python",
   "nbconvert_exporter": "python",
   "pygments_lexer": "ipython3",
   "version": "3.8.8"
  }
 },
 "nbformat": 4,
 "nbformat_minor": 5
}
