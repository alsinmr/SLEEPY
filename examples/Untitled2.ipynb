{
 "cells": [
  {
   "cell_type": "markdown",
   "id": "bba993d3",
   "metadata": {},
   "source": [
    "# Example: Pseudo-contact shift"
   ]
  },
  {
   "cell_type": "code",
   "execution_count": 3,
   "id": "5f568dc3",
   "metadata": {},
   "outputs": [],
   "source": [
    "# git clone https://github.com/alsinmr/pyRelaxSim.git\n",
    "import sys\n",
    "sys.path.append('/Users/albertsmith/Documents/GitHub.nosync')\n",
    "sys.path.append('/Users/albertsmith/Documents/GitHub')\n",
    "import pyRelaxSim as RS\n",
    "import numpy as np\n",
    "import matplotlib.pyplot as plt"
   ]
  },
  {
   "cell_type": "markdown",
   "id": "625456e2",
   "metadata": {},
   "source": [
    "## Build the spin-system"
   ]
  },
  {
   "cell_type": "code",
   "execution_count": null,
   "id": "2593348d",
   "metadata": {},
   "outputs": [],
   "source": [
    "ex=RS.ExpSys(v0H=850,Nucs=['13C','e-'],T_K=100)\n",
    "ex.set_inter(Type='hyperfine',i0=0,i1=1,Azz=100000)"
   ]
  }
 ],
 "metadata": {
  "kernelspec": {
   "display_name": "Python 3",
   "language": "python",
   "name": "python3"
  },
  "language_info": {
   "codemirror_mode": {
    "name": "ipython",
    "version": 3
   },
   "file_extension": ".py",
   "mimetype": "text/x-python",
   "name": "python",
   "nbconvert_exporter": "python",
   "pygments_lexer": "ipython3",
   "version": "3.7.3"
  }
 },
 "nbformat": 4,
 "nbformat_minor": 5
}
