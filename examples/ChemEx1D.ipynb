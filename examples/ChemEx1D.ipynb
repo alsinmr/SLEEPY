{
 "cells": [
  {
   "cell_type": "markdown",
   "id": "644e832d",
   "metadata": {},
   "source": [
    "# Example 1: 2-spin exchange"
   ]
  },
  {
   "cell_type": "markdown",
   "id": "ce880089",
   "metadata": {},
   "source": [
    "In this example, we look at a simple case of a single spin with its chemical shift modulated by an exchange process. Then, we will see how its behavior changes as a function of correlation time and population"
   ]
  },
  {
   "cell_type": "markdown",
   "id": "4d8ff91e",
   "metadata": {},
   "source": [
    "### Installs and Imports"
   ]
  },
  {
   "cell_type": "code",
   "execution_count": 1,
   "id": "8ee37c77",
   "metadata": {},
   "outputs": [],
   "source": [
    "#!!git clone https://github.com/alsinmr/pyRelaxSim.git\n",
    "import sys\n",
    "sys.path.append('/Users/albertsmith/Documents/GitHub')\n",
    "import pyRelaxSim as RS\n",
    "import numpy as np\n",
    "import matplotlib.pyplot as plt"
   ]
  },
  {
   "cell_type": "markdown",
   "id": "8a201f3d",
   "metadata": {},
   "source": [
    "## Build the spin system"
   ]
  },
  {
   "cell_type": "markdown",
   "id": "90547c6b",
   "metadata": {},
   "source": [
    "For relaxation induced by exchange, we always build the spin system with at least two different sets of interactions. Not all interactions must change, but at least one interaction should be different– otherwise no relaxation will occure. Note that best-practice is to build the first spin-system, and copy it and only edit the parameters that are changed in the second spin-system.\n",
    "\n",
    "pyRelaxSim takes the main experimental parameters (excepting rf fields) upon initialization of a spin-system, and then interactions are added afterwards."
   ]
  },
  {
   "cell_type": "code",
   "execution_count": 2,
   "id": "1225018e",
   "metadata": {},
   "outputs": [],
   "source": [
    "ex0=RS.ExpSys(v0H=600,Nucs='13C')     #1-spin system at 600 MHz (14.1 T)\n",
    "ex0.set_inter(Type='CS',i=0,ppm=0)    #Chemical shift for spin 0 at 0 ppm\n",
    "ex1=ex0.copy()   #Copies the spin-system\n",
    "ex1.set_inter(Type='CS',i=0,ppm=10)   #Change of chemical shift by 10 ppm (~1500 Hz)  "
   ]
  },
  {
   "cell_type": "markdown",
   "id": "0b1ace3e",
   "metadata": {},
   "source": [
    "## Define Liouvillian, initial density operator, and detection operator"
   ]
  },
  {
   "cell_type": "code",
   "execution_count": 16,
   "id": "d949dd4d",
   "metadata": {},
   "outputs": [],
   "source": [
    "L=RS.Liouvillian((ex0,ex1)) #Liouvillian with both Hamiltonians\n",
    "rho=RS.Rho(rho0='13Cx',detect='13Cp',L=L)   #Specify by Nucleus type and operator type"
   ]
  },
  {
   "cell_type": "markdown",
   "id": "dde419b2",
   "metadata": {},
   "source": [
    "## Calculate Spectrum as Function of Correlation Time"
   ]
  },
  {
   "cell_type": "markdown",
   "id": "5422f793",
   "metadata": {},
   "source": [
    "In this case, there isn't really a sequence. We just start the magnetization on Sx, propagate it, and observe at each propagation step."
   ]
  },
  {
   "cell_type": "code",
   "execution_count": 17,
   "id": "790cf8c4",
   "metadata": {},
   "outputs": [
    {
     "data": {
      "image/png": "[encoded data removed]",
      "text/plain": [
       "<Figure size 432x288 with 1 Axes>"
      ]
     },
     "metadata": {
      "needs_background": "light"
     },
     "output_type": "display_data"
    }
   ],
   "source": [
    "dt=1/1500/5   #Time step for propagator\n",
    "tc0=np.logspace(-5,-2,7)  #Correlation time axis\n",
    "ax=plt.figure().add_subplot(111)  #Axis for plotting results\n",
    "for tc in tc0:\n",
    "    L.kex=np.array([[-1/(2*tc),1/(2*tc)],[1/(2*tc),-1/(2*tc)]])\n",
    "    U=L.U(t0=0,tf=dt)  #Propagator for a time step dt\n",
    "    \n",
    "    rho.clear()     #Clear all information out of rho\n",
    "    rho.DetProp(U,n=10000)   #Propagate for 10000 time steps\n",
    "    rho.plot(ax=ax,FT=True,imag=False)    #Plot FT of the results"
   ]
  },
  {
   "cell_type": "code",
   "execution_count": null,
   "id": "ed8552ba",
   "metadata": {},
   "outputs": [],
   "source": []
  }
 ],
 "metadata": {
  "kernelspec": {
   "display_name": "Python 3",
   "language": "python",
   "name": "python3"
  },
  "language_info": {
   "codemirror_mode": {
    "name": "ipython",
    "version": 3
   },
   "file_extension": ".py",
   "mimetype": "text/x-python",
   "name": "python",
   "nbconvert_exporter": "python",
   "pygments_lexer": "ipython3",
   "version": "3.7.3"
  }
 },
 "nbformat": 4,
 "nbformat_minor": 5
}
