{
 "cells": [
  {
   "cell_type": "code",
   "execution_count": 5,
   "id": "882bf112",
   "metadata": {},
   "outputs": [],
   "source": [
    "# git clone https://github.com/alsinmr/pyRelaxSim.git\n",
    "import matplotlib.pyplot as plt\n",
    "import sys\n",
    "sys.path.append('/Users/albertsmith/Documents/GitHub.nosync')\n",
    "sys.path.append('/Users/albertsmith/Documents/GitHub')\n",
    "import pyRelaxSim as RS\n",
    "import numpy as np\n",
    "from numpy import pi\n",
    "RS.Defaults['parallel']=False"
   ]
  },
  {
   "cell_type": "code",
   "execution_count": 32,
   "id": "0f0912b6",
   "metadata": {},
   "outputs": [],
   "source": [
    "ex=[RS.ExpSys(v0H=600,Nucs=['15N','1H'],pwdavg=RS.PowderAvg('alpha0beta0'),n_gamma=1)]\n",
    "ex[0].set_inter(Type='CS',i=0,ppm=10)\n",
    "ex.extend([ex[0].copy(),ex[0].copy(),ex[0].copy()])\n",
    "for ex0,beta,gamma in zip(ex,[0,109.47*pi/180,109.47*pi/180,109.47*pi/180],[0,0,2*pi/3,4*pi/3]):\n",
    "    ex0.set_inter(Type='dipole',i0=0,i1=1,delta=22000,euler=[0,beta,gamma])\n",
    "L=RS.Liouvillian(ex)"
   ]
  },
  {
   "cell_type": "code",
   "execution_count": 42,
   "id": "07d1a777",
   "metadata": {},
   "outputs": [],
   "source": [
    "tc=1e-9\n",
    "kex=(np.ones([4,4])-np.eye(4)*4)/(4*tc)\n",
    "L.kex=kex\n",
    "U=L.U()**50\n",
    "rho=RS.Rho(rho0='15Nx',detect='15Np',L=L)"
   ]
  },
  {
   "cell_type": "code",
   "execution_count": 43,
   "id": "18d7af3a",
   "metadata": {},
   "outputs": [
    {
     "data": {
      "text/plain": [
       "<pyRelaxSim.Rho.Rho at 0x7fb649321190>"
      ]
     },
     "execution_count": 43,
     "metadata": {},
     "output_type": "execute_result"
    }
   ],
   "source": [
    "rho.DetProp(U,n=1024)"
   ]
  },
  {
   "cell_type": "code",
   "execution_count": 44,
   "id": "73d73c8e",
   "metadata": {},
   "outputs": [
    {
     "data": {
      "text/plain": [
       "<AxesSubplot:xlabel='$\\\\nu$ / kHz', ylabel='I / a.u.'>"
      ]
     },
     "execution_count": 44,
     "metadata": {},
     "output_type": "execute_result"
    },
    {
     "data": {
      "image/png": "[encoded data removed]",
      "text/plain": [
       "<Figure size 432x288 with 1 Axes>"
      ]
     },
     "metadata": {
      "needs_background": "light"
     },
     "output_type": "display_data"
    }
   ],
   "source": [
    "rho.plot(FT=True,imag=False,apodize=False)"
   ]
  },
  {
   "cell_type": "code",
   "execution_count": null,
   "id": "7812a3e4",
   "metadata": {},
   "outputs": [],
   "source": []
  }
 ],
 "metadata": {
  "kernelspec": {
   "display_name": "Python 3",
   "language": "python",
   "name": "python3"
  },
  "language_info": {
   "codemirror_mode": {
    "name": "ipython",
    "version": 3
   },
   "file_extension": ".py",
   "mimetype": "text/x-python",
   "name": "python",
   "nbconvert_exporter": "python",
   "pygments_lexer": "ipython3",
   "version": "3.8.8"
  }
 },
 "nbformat": 4,
 "nbformat_minor": 5
}
