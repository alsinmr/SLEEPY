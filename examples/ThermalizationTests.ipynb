{
 "cells": [
  {
   "cell_type": "code",
   "execution_count": 1,
   "id": "2d29f888",
   "metadata": {},
   "outputs": [],
   "source": [
    "import sys\n",
    "sys.path.append('/Users/albertsmith/Documents/GitHub.nosync/')\n",
    "import SLEEPY as sl\n",
    "import numpy as np\n",
    "import matplotlib.pyplot as plt"
   ]
  },
  {
   "cell_type": "code",
   "execution_count": 2,
   "id": "1fd01768",
   "metadata": {},
   "outputs": [],
   "source": [
    "%matplotlib notebook"
   ]
  },
  {
   "cell_type": "code",
   "execution_count": null,
   "id": "6535ec51",
   "metadata": {
    "scrolled": true
   },
   "outputs": [
    {
     "name": "stdout",
     "output_type": "stream",
     "text": [
      "State-space reduction: 4->2\n"
     ]
    }
   ],
   "source": [
    "ex=sl.ExpSys(v0H=400,Nucs=['13C'],vr=10000,pwdavg=sl.PowderAvg()[0])\n",
    "ex.set_inter('CSA',i=0,delta=0)\n",
    "L=ex.Liouvillian()\n",
    "L.add_relax('T1',i=0,T1=1)\n",
    "L.add_relax('T2',i=0,T2=.5)\n",
    "L.add_relax('recovery')\n",
    "\n",
    "seq=L.Sequence()\n",
    "\n",
    "rho=sl.Rho('zero','13Cz')\n",
    "\n",
    "rho.DetProp(seq,n=50000)"
   ]
  },
  {
   "cell_type": "code",
   "execution_count": null,
   "id": "301bd933",
   "metadata": {},
   "outputs": [],
   "source": [
    "rho.plot()"
   ]
  },
  {
   "cell_type": "code",
   "execution_count": null,
   "id": "069b8e54",
   "metadata": {},
   "outputs": [],
   "source": [
    "ex=sl.ExpSys(v0H=400,Nucs=['13C','e-'],vr=10000,pwdavg=sl.PowderAvg()[0],T_K=20)\n",
    "ex.set_inter('hyperfine',i0=0,i1=1,Axx=10000,Ayy=10000,Azz=10000)\n",
    "L=ex.Liouvillian()\n",
    "L.add_relax('T1',i=1,T1=1e-9)\n",
    "L.add_relax('T2',i=1,T2=1e-10)\n",
    "\n",
    "L.add_relax('T1',i=0,T1=1)\n",
    "L.add_relax('T2',i=0,T2=.5)\n",
    "L.add_relax('recovery')\n",
    "\n",
    "seq=L.Sequence(Dt=1e-10)\n",
    "\n",
    "rho=sl.Rho('Zero','ez')\n",
    "\n",
    "rho.DetProp(seq,n=50)\n",
    "rho.plot()"
   ]
  },
  {
   "cell_type": "code",
   "execution_count": null,
   "id": "e141b60c",
   "metadata": {
    "scrolled": false
   },
   "outputs": [],
   "source": [
    "ax=plt.subplots()[1]\n",
    "for T in [10,20,30,40,50,200,300]:\n",
    "    ex=sl.ExpSys(v0H=400,Nucs=['13C','e-'],pwdavg=sl.PowderAvg()[0],T_K=T)\n",
    "    ex.set_inter('hyperfine',i0=0,i1=1,Axx=10000,Ayy=10000,Azz=10000)\n",
    "    L=ex.Liouvillian()\n",
    "    L.add_relax('T1',i=1,T1=1e-10)\n",
    "    L.add_relax('T2',i=1,T2=1e-12)\n",
    "\n",
    "    L.add_relax('recovery')\n",
    "\n",
    "    seq=L.Sequence(Dt=1e-4)\n",
    "\n",
    "    rho=sl.Rho('13Cx','13Cp')\n",
    "\n",
    "    rho.DetProp(seq,n=1024)\n",
    "    rho.plot(FT=True,apodize=True,ax=ax)"
   ]
  },
  {
   "cell_type": "code",
   "execution_count": null,
   "id": "f38a02ef",
   "metadata": {},
   "outputs": [],
   "source": [
    "ax.invert_xaxis(True)\n"
   ]
  },
  {
   "cell_type": "code",
   "execution_count": null,
   "id": "e51ff94c",
   "metadata": {},
   "outputs": [],
   "source": []
  }
 ],
 "metadata": {
  "kernelspec": {
   "display_name": "Python 3",
   "language": "python",
   "name": "python3"
  },
  "language_info": {
   "codemirror_mode": {
    "name": "ipython",
    "version": 3
   },
   "file_extension": ".py",
   "mimetype": "text/x-python",
   "name": "python",
   "nbconvert_exporter": "python",
   "pygments_lexer": "ipython3",
   "version": "3.8.8"
  }
 },
 "nbformat": 4,
 "nbformat_minor": 5
}
