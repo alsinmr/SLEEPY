{
 "cells": [
  {
   "cell_type": "markdown",
   "id": "eeb120d6",
   "metadata": {},
   "source": [
    "# Example: Pseudo-contact shift"
   ]
  },
  {
   "cell_type": "code",
   "execution_count": 109,
   "id": "bf9037e6",
   "metadata": {},
   "outputs": [],
   "source": [
    "# git clone https://github.com/alsinmr/pyRelaxSim.git\n",
    "import sys\n",
    "sys.path.append('/Users/albertsmith/Documents/GitHub.nosync')\n",
    "sys.path.append('/Users/albertsmith/Documents/GitHub')\n",
    "import pyRelaxSim as RS\n",
    "import numpy as np\n",
    "import matplotlib.pyplot as plt"
   ]
  },
  {
   "cell_type": "markdown",
   "id": "af54186c",
   "metadata": {},
   "source": [
    "## Build the spin-system"
   ]
  },
  {
   "cell_type": "code",
   "execution_count": 110,
   "id": "e7a61f58",
   "metadata": {},
   "outputs": [
    {
     "name": "stdout",
     "output_type": "stream",
     "text": [
      "We expect a pseudo-contact shift of -112.55288149360537 Hz\n"
     ]
    }
   ],
   "source": [
    "ex=RS.ExpSys(v0H=850,Nucs=['13C','e-'],T_K=298)\n",
    "Aiso=5000\n",
    "ex.set_inter(Type='hyperfine',i0=0,i1=1,Axx=Aiso,Ayy=Aiso,Azz=Aiso)\n",
    "print(f'We expect a pseudo-contact shift of {Aiso*ex.Peq[1]/2} Hz')"
   ]
  },
  {
   "cell_type": "markdown",
   "id": "5a03f55a",
   "metadata": {},
   "source": [
    "## Define the Liouvillian, add relaxation, acquire the propagator"
   ]
  },
  {
   "cell_type": "markdown",
   "id": "db4fe168",
   "metadata": {},
   "source": [
    "Note that by default, we do not cause the system to relax to thermal equilibrium, but rather to 0. However, for the Pseudocontact shift, we only obtain the effect if the electronic states have thermal polarization, so we need to enforce relaxation to thermal equilibrium (Peq=True)."
   ]
  },
  {
   "cell_type": "code",
   "execution_count": 111,
   "id": "b648bc62",
   "metadata": {},
   "outputs": [],
   "source": [
    "L=RS.Liouvillian(ex)     #Liouville object\n",
    "L.add_relax(Type='T1',i=1,T1=1e-6,Peq=True)  #Add T1 relaxation (1 ns). \n",
    "L.add_relax(Type='T2',i=1,T2=1e-12) #Add T2 relaxation (ensure physical system)\n",
    "dt=1/1000/2 #Short enough time step for 2000 Hz spectral width\n",
    "U=L.U(t0=0,tf=dt)"
   ]
  },
  {
   "cell_type": "markdown",
   "id": "1632a005",
   "metadata": {},
   "source": [
    "## Prepare the System"
   ]
  },
  {
   "cell_type": "code",
   "execution_count": 112,
   "id": "1c3194c3",
   "metadata": {},
   "outputs": [],
   "source": [
    "rho=RS.Rho(rho0='13Cx',detect='13Cp',L=L)\n",
    "\n",
    "rho.clear()\n",
    "seq=RS.Sequence(L)\n",
    "seq.add_channel('13C',t=[0,2.5e-6],v1=[100000,0],phase=[np.pi/2,0])\n",
    "Upi2=seq.U(tf=2.5e-6)\n",
    "#Upi2*rho\n"
   ]
  },
  {
   "cell_type": "markdown",
   "id": "3b7905c9",
   "metadata": {},
   "source": [
    "## Acquire"
   ]
  },
  {
   "cell_type": "code",
   "execution_count": 113,
   "id": "75225563",
   "metadata": {},
   "outputs": [
    {
     "data": {
      "text/plain": [
       "<AxesSubplot:xlabel='$\\\\nu$ / kHz', ylabel='I / a.u.'>"
      ]
     },
     "execution_count": 113,
     "metadata": {},
     "output_type": "execute_result"
    },
    {
     "data": {
      "image/png": "[encoded data removed]",
      "text/plain": [
       "<Figure size 432x288 with 1 Axes>"
      ]
     },
     "metadata": {
      "needs_background": "light"
     },
     "output_type": "display_data"
    }
   ],
   "source": [
    "rho.DetProp(U,n=512)\n",
    "rho.plot(FT=True,imag=False,apodize=True)"
   ]
  },
  {
   "cell_type": "code",
   "execution_count": null,
   "id": "148f13ca",
   "metadata": {},
   "outputs": [],
   "source": []
  },
  {
   "cell_type": "code",
   "execution_count": null,
   "id": "1d7b1763",
   "metadata": {},
   "outputs": [],
   "source": []
  }
 ],
 "metadata": {
  "kernelspec": {
   "display_name": "Python 3",
   "language": "python",
   "name": "python3"
  },
  "language_info": {
   "codemirror_mode": {
    "name": "ipython",
    "version": 3
   },
   "file_extension": ".py",
   "mimetype": "text/x-python",
   "name": "python",
   "nbconvert_exporter": "python",
   "pygments_lexer": "ipython3",
   "version": "3.8.8"
  }
 },
 "nbformat": 4,
 "nbformat_minor": 5
}
