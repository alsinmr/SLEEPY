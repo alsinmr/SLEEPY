{
 "cells": [
  {
   "cell_type": "markdown",
   "id": "eeb120d6",
   "metadata": {},
   "source": [
    "# Example: Pseudo-contact shift"
   ]
  },
  {
   "cell_type": "code",
   "execution_count": 1,
   "id": "bf9037e6",
   "metadata": {},
   "outputs": [],
   "source": [
    "# git clone https://github.com/alsinmr/pyRelaxSim.git\n",
    "import sys\n",
    "sys.path.append('/Users/albertsmith/Documents/GitHub.nosync')\n",
    "sys.path.append('/Users/albertsmith/Documents/GitHub')\n",
    "import pyRelaxSim as RS\n",
    "import numpy as np\n",
    "import matplotlib.pyplot as plt"
   ]
  },
  {
   "cell_type": "markdown",
   "id": "af54186c",
   "metadata": {},
   "source": [
    "## Build the spin-system"
   ]
  },
  {
   "cell_type": "code",
   "execution_count": 2,
   "id": "e7a61f58",
   "metadata": {},
   "outputs": [
    {
     "name": "stdout",
     "output_type": "stream",
     "text": [
      "We expect a pseudo-contact shift of -672.4826324530147 Hz\n"
     ]
    }
   ],
   "source": [
    "ex=RS.ExpSys(v0H=850,Nucs=['13C','e-'],T_K=100)\n",
    "Aiso=100000.\n",
    "ex.set_inter(Type='hyperfine',i0=0,i1=1,Axx=Aiso,Ayy=Aiso,Azz=Aiso)\n",
    "print(f'We expect a pseudo-contact shift of {Aiso*ex.Peq[1]} Hz')"
   ]
  },
  {
   "cell_type": "markdown",
   "id": "5a03f55a",
   "metadata": {},
   "source": [
    "## Define the Liouvillian, add relaxation, acquire the propagator"
   ]
  },
  {
   "cell_type": "markdown",
   "id": "db4fe168",
   "metadata": {},
   "source": [
    "Note that by default, we do not cause the system to relax to thermal equilibrium, but rather to 0. However, for the Pseudocontact shift, we only obtain the effect if the electronic states have thermal polarization, so we need to enforce relaxation to thermal equilibrium (Peq=True)."
   ]
  },
  {
   "cell_type": "code",
   "execution_count": 3,
   "id": "b648bc62",
   "metadata": {},
   "outputs": [],
   "source": [
    "L=RS.Liouvillian(ex)     #Liouville object\n",
    "L.add_relax(Type='T1',i=1,T1=1e-9,Peq=True)  #Add T1 relaxation (1 ns). \n",
    "L.add_relax(Type='T2',i=1,T2=1e-11) #Add T2 relaxation (ensure physical system)\n",
    "dt=1/1000/2 #Short enough time step for 2000 Hz spectral width\n",
    "U=L.U(t0=0,tf=dt)"
   ]
  },
  {
   "cell_type": "markdown",
   "id": "1632a005",
   "metadata": {},
   "source": [
    "## Acquire a spectrum"
   ]
  },
  {
   "cell_type": "code",
   "execution_count": 8,
   "id": "1c3194c3",
   "metadata": {},
   "outputs": [
    {
     "name": "stderr",
     "output_type": "stream",
     "text": [
      "/Users/albertsmith/Documents/GitHub/pyRelaxSim/Rho.py:305: RuntimeWarning: overflow encountered in multiply\n",
      "  rho_d=dp*rho0\n",
      "/Users/albertsmith/Documents/GitHub/pyRelaxSim/Rho.py:305: RuntimeWarning: invalid value encountered in multiply\n",
      "  rho_d=dp*rho0\n",
      "/Users/albertsmith/Documents/GitHub/pyRelaxSim/Rho.py:309: RuntimeWarning: invalid value encountered in multiply\n",
      "  self._Ipwd[k][m].extend((det_d*rho_d[:-1]).sum(-1))\n",
      "/Users/albertsmith/Documents/GitHub/pyRelaxSim/Rho.py:144: RuntimeWarning: invalid value encountered in multiply\n",
      "  return (self.Ipwd.T*self.pwdavg.weight).sum(-1).T\n",
      "/Users/albertsmith/Documents/GitHub/pyRelaxSim/Rho.py:144: RuntimeWarning: invalid value encountered in multiply\n",
      "  return (self.Ipwd.T*self.pwdavg.weight).sum(-1).T\n"
     ]
    },
    {
     "data": {
      "image/png": "[encoded data removed]",
      "text/plain": [
       "<Figure size 432x288 with 1 Axes>"
      ]
     },
     "metadata": {
      "needs_background": "light"
     },
     "output_type": "display_data"
    }
   ],
   "source": [
    "rho=RS.Rho(rho0='13Cx',detect='13Cp',L=L)\n",
    "rho.DetProp(U,n=2000)\n",
    "rho.plot(FT=True)"
   ]
  },
  {
   "cell_type": "code",
   "execution_count": 10,
   "id": "801efeeb",
   "metadata": {},
   "outputs": [
    {
     "name": "stderr",
     "output_type": "stream",
     "text": [
      "/Users/albertsmith/Documents/GitHub/pyRelaxSim/Rho.py:144: RuntimeWarning: invalid value encountered in multiply\n",
      "  return (self.Ipwd.T*self.pwdavg.weight).sum(-1).T\n"
     ]
    },
    {
     "data": {
      "text/plain": [
       "(1+0j)"
      ]
     },
     "execution_count": 10,
     "metadata": {},
     "output_type": "execute_result"
    }
   ],
   "source": [
    "rho.I[0,0]"
   ]
  },
  {
   "cell_type": "code",
   "execution_count": 11,
   "id": "6ab6f6f5",
   "metadata": {},
   "outputs": [
    {
     "data": {
      "text/plain": [
       "array([[-2.5000000e+05+0.00000000e+00j,  0.0000000e+00+0.00000000e+00j,\n",
       "         0.0000000e+00+0.00000000e+00j,  2.5000000e+05+0.00000000e+00j,\n",
       "         0.0000000e+00+0.00000000e+00j,  0.0000000e+00+0.00000000e+00j,\n",
       "         0.0000000e+00+0.00000000e+00j,  0.0000000e+00+0.00000000e+00j,\n",
       "         0.0000000e+00+0.00000000e+00j,  0.0000000e+00+0.00000000e+00j,\n",
       "         0.0000000e+00+0.00000000e+00j,  0.0000000e+00+0.00000000e+00j,\n",
       "         0.0000000e+00+0.00000000e+00j,  0.0000000e+00+0.00000000e+00j,\n",
       "         0.0000000e+00+0.00000000e+00j,  0.0000000e+00+0.00000000e+00j],\n",
       "       [ 0.0000000e+00+0.00000000e+00j, -5.0000000e+07-1.28255005e+02j,\n",
       "         0.0000000e+00+0.00000000e+00j,  0.0000000e+00+0.00000000e+00j,\n",
       "         0.0000000e+00+0.00000000e+00j,  0.0000000e+00+0.00000000e+00j,\n",
       "         0.0000000e+00+0.00000000e+00j,  0.0000000e+00+0.00000000e+00j,\n",
       "         0.0000000e+00+0.00000000e+00j,  0.0000000e+00+0.00000000e+00j,\n",
       "         0.0000000e+00+0.00000000e+00j,  0.0000000e+00+0.00000000e+00j,\n",
       "        -7.8504625e-09-2.01372207e-14j,  0.0000000e+00+0.00000000e+00j,\n",
       "         0.0000000e+00+0.00000000e+00j,  7.8504625e-09+2.01372207e-14j],\n",
       "       [ 0.0000000e+00+0.00000000e+00j,  0.0000000e+00+0.00000000e+00j,\n",
       "        -5.0000000e+07-1.28255005e+02j,  0.0000000e+00+0.00000000e+00j,\n",
       "         0.0000000e+00+0.00000000e+00j,  0.0000000e+00+0.00000000e+00j,\n",
       "         0.0000000e+00+0.00000000e+00j,  0.0000000e+00+0.00000000e+00j,\n",
       "         0.0000000e+00+0.00000000e+00j,  0.0000000e+00+0.00000000e+00j,\n",
       "         0.0000000e+00+0.00000000e+00j,  0.0000000e+00+0.00000000e+00j,\n",
       "        -7.8504625e-09-2.01372207e-14j,  0.0000000e+00+0.00000000e+00j,\n",
       "         0.0000000e+00+0.00000000e+00j, -7.8504625e-09-2.01372207e-14j],\n",
       "       [ 2.5000000e+05+0.00000000e+00j,  0.0000000e+00+0.00000000e+00j,\n",
       "         0.0000000e+00+0.00000000e+00j, -2.5000000e+05+0.00000000e+00j,\n",
       "         0.0000000e+00+0.00000000e+00j,  0.0000000e+00+0.00000000e+00j,\n",
       "         0.0000000e+00+0.00000000e+00j,  0.0000000e+00+0.00000000e+00j,\n",
       "         0.0000000e+00+0.00000000e+00j,  0.0000000e+00+0.00000000e+00j,\n",
       "         0.0000000e+00+0.00000000e+00j,  0.0000000e+00+0.00000000e+00j,\n",
       "         0.0000000e+00+0.00000000e+00j,  0.0000000e+00+0.00000000e+00j,\n",
       "         0.0000000e+00+0.00000000e+00j,  0.0000000e+00+0.00000000e+00j],\n",
       "       [ 0.0000000e+00+0.00000000e+00j,  0.0000000e+00+0.00000000e+00j,\n",
       "         0.0000000e+00+0.00000000e+00j,  0.0000000e+00+0.00000000e+00j,\n",
       "        -2.5000000e+05+1.28254990e+02j,  0.0000000e+00+0.00000000e+00j,\n",
       "         0.0000000e+00+0.00000000e+00j,  2.5000000e+05-8.76312515e-06j,\n",
       "         0.0000000e+00+0.00000000e+00j,  0.0000000e+00+0.00000000e+00j,\n",
       "         0.0000000e+00+0.00000000e+00j,  0.0000000e+00+0.00000000e+00j,\n",
       "         0.0000000e+00+0.00000000e+00j,  0.0000000e+00+0.00000000e+00j,\n",
       "         0.0000000e+00+0.00000000e+00j,  0.0000000e+00+0.00000000e+00j],\n",
       "       [ 0.0000000e+00+0.00000000e+00j,  0.0000000e+00+0.00000000e+00j,\n",
       "         0.0000000e+00+0.00000000e+00j,  0.0000000e+00+0.00000000e+00j,\n",
       "         3.9252313e-09+5.18385682e-13j, -5.0000000e+07+1.03491879e-12j,\n",
       "         1.0532429e-27-7.85046250e-09j, -3.9252313e-09-5.18385682e-13j,\n",
       "        -1.7792102e-13+7.15343074e-09j,  0.0000000e+00+0.00000000e+00j,\n",
       "         0.0000000e+00+0.00000000e+00j,  1.7792102e-13-7.15343074e-09j,\n",
       "         0.0000000e+00+0.00000000e+00j,  0.0000000e+00+0.00000000e+00j,\n",
       "         0.0000000e+00+0.00000000e+00j,  0.0000000e+00+0.00000000e+00j],\n",
       "       [ 0.0000000e+00+0.00000000e+00j,  0.0000000e+00+0.00000000e+00j,\n",
       "         0.0000000e+00+0.00000000e+00j,  0.0000000e+00+0.00000000e+00j,\n",
       "         0.0000000e+00+0.00000000e+00j,  3.0092653e-28-8.16489677e-32j,\n",
       "        -5.0000000e+07-9.73221320e-28j,  0.0000000e+00+0.00000000e+00j,\n",
       "        -5.5511151e-09+5.15534805e-28j,  0.0000000e+00+0.00000000e+00j,\n",
       "         0.0000000e+00+0.00000000e+00j, -5.5511151e-09-1.03102746e-28j,\n",
       "         0.0000000e+00+0.00000000e+00j,  0.0000000e+00+0.00000000e+00j,\n",
       "         0.0000000e+00+0.00000000e+00j,  0.0000000e+00+0.00000000e+00j],\n",
       "       [ 0.0000000e+00+0.00000000e+00j,  0.0000000e+00+0.00000000e+00j,\n",
       "         0.0000000e+00+0.00000000e+00j,  0.0000000e+00+0.00000000e+00j,\n",
       "         2.5000000e+05-8.76312515e-06j,  0.0000000e+00+0.00000000e+00j,\n",
       "         0.0000000e+00+0.00000000e+00j, -2.5000000e+05+1.28254990e+02j,\n",
       "         0.0000000e+00+0.00000000e+00j,  0.0000000e+00+0.00000000e+00j,\n",
       "         0.0000000e+00+0.00000000e+00j,  0.0000000e+00+0.00000000e+00j,\n",
       "         0.0000000e+00+0.00000000e+00j,  0.0000000e+00+0.00000000e+00j,\n",
       "         0.0000000e+00+0.00000000e+00j,  0.0000000e+00+0.00000000e+00j],\n",
       "       [ 0.0000000e+00+0.00000000e+00j,  0.0000000e+00+0.00000000e+00j,\n",
       "         0.0000000e+00+0.00000000e+00j,  0.0000000e+00+0.00000000e+00j,\n",
       "         0.0000000e+00+0.00000000e+00j,  0.0000000e+00+0.00000000e+00j,\n",
       "        -5.4582046e-34-2.12787216e-30j,  0.0000000e+00+0.00000000e+00j,\n",
       "        -2.5000000e+05+1.28254990e+02j,  0.0000000e+00+0.00000000e+00j,\n",
       "         0.0000000e+00+0.00000000e+00j,  2.5000000e+05-3.61824596e-06j,\n",
       "         0.0000000e+00+0.00000000e+00j,  0.0000000e+00+0.00000000e+00j,\n",
       "         0.0000000e+00+0.00000000e+00j,  0.0000000e+00+0.00000000e+00j],\n",
       "       [ 0.0000000e+00+0.00000000e+00j,  0.0000000e+00+0.00000000e+00j,\n",
       "        -7.8504625e-09+0.00000000e+00j,  0.0000000e+00+0.00000000e+00j,\n",
       "         0.0000000e+00+0.00000000e+00j,  0.0000000e+00+0.00000000e+00j,\n",
       "         0.0000000e+00+0.00000000e+00j,  0.0000000e+00+0.00000000e+00j,\n",
       "         0.0000000e+00+0.00000000e+00j, -5.0000000e+07+0.00000000e+00j,\n",
       "         0.0000000e+00+0.00000000e+00j,  0.0000000e+00+0.00000000e+00j,\n",
       "        -7.5892723e-25+0.00000000e+00j,  0.0000000e+00+0.00000000e+00j,\n",
       "         0.0000000e+00+0.00000000e+00j, -7.5892723e-25+0.00000000e+00j],\n",
       "       [ 0.0000000e+00+0.00000000e+00j,  1.0455070e-12-2.93947933e-09j,\n",
       "         0.0000000e+00+4.35788211e-25j,  0.0000000e+00+0.00000000e+00j,\n",
       "         1.5896680e-24+3.01918095e-28j, -1.6653345e-08-7.33108181e-13j,\n",
       "         0.0000000e+00-3.05682322e-31j, -1.5896680e-24-3.01918095e-28j,\n",
       "        -5.3719073e-28+1.77850900e-24j,  0.0000000e+00+3.92523125e-09j,\n",
       "        -5.0000000e+07-2.23926628e-12j,  5.3719073e-28-1.77850900e-24j,\n",
       "         1.5061913e-28-3.74897911e-25j,  0.0000000e+00+0.00000000e+00j,\n",
       "         0.0000000e+00+0.00000000e+00j, -1.5061913e-28+3.74897911e-25j],\n",
       "       [ 0.0000000e+00+0.00000000e+00j,  0.0000000e+00+0.00000000e+00j,\n",
       "         0.0000000e+00+0.00000000e+00j,  0.0000000e+00+0.00000000e+00j,\n",
       "         0.0000000e+00+0.00000000e+00j,  0.0000000e+00+0.00000000e+00j,\n",
       "         5.4582046e-34+2.12787216e-30j,  0.0000000e+00+0.00000000e+00j,\n",
       "         2.5000000e+05-3.61824596e-06j,  0.0000000e+00+0.00000000e+00j,\n",
       "         0.0000000e+00+0.00000000e+00j, -2.5000000e+05+1.28254990e+02j,\n",
       "         0.0000000e+00+0.00000000e+00j,  0.0000000e+00+0.00000000e+00j,\n",
       "         0.0000000e+00+0.00000000e+00j,  0.0000000e+00+0.00000000e+00j],\n",
       "       [ 0.0000000e+00+0.00000000e+00j,  0.0000000e+00+0.00000000e+00j,\n",
       "         0.0000000e+00+0.00000000e+00j,  0.0000000e+00+0.00000000e+00j,\n",
       "         0.0000000e+00+0.00000000e+00j,  0.0000000e+00+0.00000000e+00j,\n",
       "         0.0000000e+00+0.00000000e+00j,  0.0000000e+00+0.00000000e+00j,\n",
       "         0.0000000e+00+0.00000000e+00j,  0.0000000e+00+0.00000000e+00j,\n",
       "         0.0000000e+00+0.00000000e+00j,  0.0000000e+00+0.00000000e+00j,\n",
       "        -2.5000000e+05+0.00000000e+00j,  0.0000000e+00+0.00000000e+00j,\n",
       "         0.0000000e+00+0.00000000e+00j,  2.5000000e+05+0.00000000e+00j],\n",
       "       [ 0.0000000e+00+0.00000000e+00j, -3.9116441e-29-1.27123734e-32j,\n",
       "         0.0000000e+00+0.00000000e+00j,  0.0000000e+00+0.00000000e+00j,\n",
       "         0.0000000e+00+0.00000000e+00j,  9.5644043e-34+1.19890379e-28j,\n",
       "         0.0000000e+00+0.00000000e+00j,  0.0000000e+00+0.00000000e+00j,\n",
       "         0.0000000e+00+0.00000000e+00j,  5.3196803e-29+2.61114823e-32j,\n",
       "        -1.2087756e-18+4.71239150e-13j,  0.0000000e+00+0.00000000e+00j,\n",
       "         0.0000000e+00+0.00000000e+00j, -5.0000000e+07-1.28255005e+02j,\n",
       "         0.0000000e+00+0.00000000e+00j,  0.0000000e+00+0.00000000e+00j],\n",
       "       [ 0.0000000e+00+0.00000000e+00j,  0.0000000e+00+0.00000000e+00j,\n",
       "         0.0000000e+00+0.00000000e+00j,  0.0000000e+00+0.00000000e+00j,\n",
       "         0.0000000e+00+0.00000000e+00j,  0.0000000e+00+0.00000000e+00j,\n",
       "         0.0000000e+00+0.00000000e+00j,  0.0000000e+00+0.00000000e+00j,\n",
       "         0.0000000e+00+0.00000000e+00j,  0.0000000e+00+0.00000000e+00j,\n",
       "        -4.9096775e-29+1.06467296e-29j,  0.0000000e+00+0.00000000e+00j,\n",
       "         0.0000000e+00+0.00000000e+00j, -2.2724868e-13+4.71269399e-13j,\n",
       "        -5.0000000e+07-1.28255005e+02j,  0.0000000e+00+0.00000000e+00j],\n",
       "       [ 0.0000000e+00+0.00000000e+00j,  0.0000000e+00+0.00000000e+00j,\n",
       "         0.0000000e+00+0.00000000e+00j,  0.0000000e+00+0.00000000e+00j,\n",
       "         0.0000000e+00+0.00000000e+00j,  0.0000000e+00+0.00000000e+00j,\n",
       "         0.0000000e+00+0.00000000e+00j,  0.0000000e+00+0.00000000e+00j,\n",
       "         0.0000000e+00+0.00000000e+00j,  0.0000000e+00+0.00000000e+00j,\n",
       "         0.0000000e+00+0.00000000e+00j,  0.0000000e+00+0.00000000e+00j,\n",
       "         2.5000000e+05+0.00000000e+00j,  0.0000000e+00+0.00000000e+00j,\n",
       "         0.0000000e+00+0.00000000e+00j, -2.5000000e+05+0.00000000e+00j]],\n",
       "      dtype=complex64)"
      ]
     },
     "execution_count": 11,
     "metadata": {},
     "output_type": "execute_result"
    }
   ],
   "source": [
    "U[0]"
   ]
  },
  {
   "cell_type": "code",
   "execution_count": 12,
   "id": "5aeaa96e",
   "metadata": {},
   "outputs": [],
   "source": [
    "d,v=np.linalg.eig(L[0].L(0))"
   ]
  },
  {
   "cell_type": "code",
   "execution_count": 13,
   "id": "95052fe8",
   "metadata": {},
   "outputs": [
    {
     "data": {
      "text/plain": [
       "array([ 1.3724588e-23     +0.j  , -1.0000000e+09     +0.j  ,\n",
       "        1.3724588e-23     +0.j  , -1.0000000e+09     +0.j  ,\n",
       "        1.3724589e-23+256509.98j, -1.0000000e+09+256509.98j,\n",
       "        1.3724589e-23+256509.98j, -1.0000000e+09+256509.98j,\n",
       "       -9.9999998e+10-256509.98j, -9.9999998e+10-256509.98j,\n",
       "       -9.9999998e+10     +0.j  , -9.9999998e+10     +0.j  ,\n",
       "       -9.9999998e+10     +0.j  , -9.9999998e+10     +0.j  ,\n",
       "       -9.9999998e+10-256509.98j, -9.9999998e+10-256509.98j],\n",
       "      dtype=complex64)"
      ]
     },
     "execution_count": 13,
     "metadata": {},
     "output_type": "execute_result"
    }
   ],
   "source": [
    "d"
   ]
  },
  {
   "cell_type": "code",
   "execution_count": 14,
   "id": "0aaa177b",
   "metadata": {},
   "outputs": [
    {
     "data": {
      "text/plain": [
       "array([[-2.5000000e+05+0.00000000e+00j,  0.0000000e+00+0.00000000e+00j,\n",
       "         0.0000000e+00+0.00000000e+00j,  2.5000000e+05+0.00000000e+00j,\n",
       "         0.0000000e+00+0.00000000e+00j,  0.0000000e+00+0.00000000e+00j,\n",
       "         0.0000000e+00+0.00000000e+00j,  0.0000000e+00+0.00000000e+00j,\n",
       "         0.0000000e+00+0.00000000e+00j,  0.0000000e+00+0.00000000e+00j,\n",
       "         0.0000000e+00+0.00000000e+00j,  0.0000000e+00+0.00000000e+00j,\n",
       "         0.0000000e+00+0.00000000e+00j,  0.0000000e+00+0.00000000e+00j,\n",
       "         0.0000000e+00+0.00000000e+00j,  0.0000000e+00+0.00000000e+00j],\n",
       "       [ 0.0000000e+00+0.00000000e+00j, -5.0000000e+07-1.28255005e+02j,\n",
       "         0.0000000e+00+0.00000000e+00j,  0.0000000e+00+0.00000000e+00j,\n",
       "         0.0000000e+00+0.00000000e+00j,  0.0000000e+00+0.00000000e+00j,\n",
       "         0.0000000e+00+0.00000000e+00j,  0.0000000e+00+0.00000000e+00j,\n",
       "         0.0000000e+00+0.00000000e+00j,  0.0000000e+00+0.00000000e+00j,\n",
       "         0.0000000e+00+0.00000000e+00j,  0.0000000e+00+0.00000000e+00j,\n",
       "        -7.8504625e-09-2.01372207e-14j,  0.0000000e+00+0.00000000e+00j,\n",
       "         0.0000000e+00+0.00000000e+00j,  7.8504625e-09+2.01372207e-14j],\n",
       "       [ 0.0000000e+00+0.00000000e+00j,  0.0000000e+00+0.00000000e+00j,\n",
       "        -5.0000000e+07-1.28255005e+02j,  0.0000000e+00+0.00000000e+00j,\n",
       "         0.0000000e+00+0.00000000e+00j,  0.0000000e+00+0.00000000e+00j,\n",
       "         0.0000000e+00+0.00000000e+00j,  0.0000000e+00+0.00000000e+00j,\n",
       "         0.0000000e+00+0.00000000e+00j,  0.0000000e+00+0.00000000e+00j,\n",
       "         0.0000000e+00+0.00000000e+00j,  0.0000000e+00+0.00000000e+00j,\n",
       "        -7.8504625e-09-2.01372207e-14j,  0.0000000e+00+0.00000000e+00j,\n",
       "         0.0000000e+00+0.00000000e+00j, -7.8504625e-09-2.01372207e-14j],\n",
       "       [ 2.5000000e+05+0.00000000e+00j,  0.0000000e+00+0.00000000e+00j,\n",
       "         0.0000000e+00+0.00000000e+00j, -2.5000000e+05+0.00000000e+00j,\n",
       "         0.0000000e+00+0.00000000e+00j,  0.0000000e+00+0.00000000e+00j,\n",
       "         0.0000000e+00+0.00000000e+00j,  0.0000000e+00+0.00000000e+00j,\n",
       "         0.0000000e+00+0.00000000e+00j,  0.0000000e+00+0.00000000e+00j,\n",
       "         0.0000000e+00+0.00000000e+00j,  0.0000000e+00+0.00000000e+00j,\n",
       "         0.0000000e+00+0.00000000e+00j,  0.0000000e+00+0.00000000e+00j,\n",
       "         0.0000000e+00+0.00000000e+00j,  0.0000000e+00+0.00000000e+00j],\n",
       "       [ 0.0000000e+00+0.00000000e+00j,  0.0000000e+00+0.00000000e+00j,\n",
       "         0.0000000e+00+0.00000000e+00j,  0.0000000e+00+0.00000000e+00j,\n",
       "        -2.5000000e+05+1.28254990e+02j,  0.0000000e+00+0.00000000e+00j,\n",
       "         0.0000000e+00+0.00000000e+00j,  2.5000000e+05-8.76312515e-06j,\n",
       "         0.0000000e+00+0.00000000e+00j,  0.0000000e+00+0.00000000e+00j,\n",
       "         0.0000000e+00+0.00000000e+00j,  0.0000000e+00+0.00000000e+00j,\n",
       "         0.0000000e+00+0.00000000e+00j,  0.0000000e+00+0.00000000e+00j,\n",
       "         0.0000000e+00+0.00000000e+00j,  0.0000000e+00+0.00000000e+00j],\n",
       "       [ 0.0000000e+00+0.00000000e+00j,  0.0000000e+00+0.00000000e+00j,\n",
       "         0.0000000e+00+0.00000000e+00j,  0.0000000e+00+0.00000000e+00j,\n",
       "         3.9252313e-09+5.18385682e-13j, -5.0000000e+07+1.03491879e-12j,\n",
       "         1.0532429e-27-7.85046250e-09j, -3.9252313e-09-5.18385682e-13j,\n",
       "        -1.7792102e-13+7.15343074e-09j,  0.0000000e+00+0.00000000e+00j,\n",
       "         0.0000000e+00+0.00000000e+00j,  1.7792102e-13-7.15343074e-09j,\n",
       "         0.0000000e+00+0.00000000e+00j,  0.0000000e+00+0.00000000e+00j,\n",
       "         0.0000000e+00+0.00000000e+00j,  0.0000000e+00+0.00000000e+00j],\n",
       "       [ 0.0000000e+00+0.00000000e+00j,  0.0000000e+00+0.00000000e+00j,\n",
       "         0.0000000e+00+0.00000000e+00j,  0.0000000e+00+0.00000000e+00j,\n",
       "         0.0000000e+00+0.00000000e+00j,  3.0092653e-28-8.16489677e-32j,\n",
       "        -5.0000000e+07-9.73221320e-28j,  0.0000000e+00+0.00000000e+00j,\n",
       "        -5.5511151e-09+5.15534805e-28j,  0.0000000e+00+0.00000000e+00j,\n",
       "         0.0000000e+00+0.00000000e+00j, -5.5511151e-09-1.03102746e-28j,\n",
       "         0.0000000e+00+0.00000000e+00j,  0.0000000e+00+0.00000000e+00j,\n",
       "         0.0000000e+00+0.00000000e+00j,  0.0000000e+00+0.00000000e+00j],\n",
       "       [ 0.0000000e+00+0.00000000e+00j,  0.0000000e+00+0.00000000e+00j,\n",
       "         0.0000000e+00+0.00000000e+00j,  0.0000000e+00+0.00000000e+00j,\n",
       "         2.5000000e+05-8.76312515e-06j,  0.0000000e+00+0.00000000e+00j,\n",
       "         0.0000000e+00+0.00000000e+00j, -2.5000000e+05+1.28254990e+02j,\n",
       "         0.0000000e+00+0.00000000e+00j,  0.0000000e+00+0.00000000e+00j,\n",
       "         0.0000000e+00+0.00000000e+00j,  0.0000000e+00+0.00000000e+00j,\n",
       "         0.0000000e+00+0.00000000e+00j,  0.0000000e+00+0.00000000e+00j,\n",
       "         0.0000000e+00+0.00000000e+00j,  0.0000000e+00+0.00000000e+00j],\n",
       "       [ 0.0000000e+00+0.00000000e+00j,  0.0000000e+00+0.00000000e+00j,\n",
       "         0.0000000e+00+0.00000000e+00j,  0.0000000e+00+0.00000000e+00j,\n",
       "         0.0000000e+00+0.00000000e+00j,  0.0000000e+00+0.00000000e+00j,\n",
       "        -5.4582046e-34-2.12787216e-30j,  0.0000000e+00+0.00000000e+00j,\n",
       "        -2.5000000e+05+1.28254990e+02j,  0.0000000e+00+0.00000000e+00j,\n",
       "         0.0000000e+00+0.00000000e+00j,  2.5000000e+05-3.61824596e-06j,\n",
       "         0.0000000e+00+0.00000000e+00j,  0.0000000e+00+0.00000000e+00j,\n",
       "         0.0000000e+00+0.00000000e+00j,  0.0000000e+00+0.00000000e+00j],\n",
       "       [ 0.0000000e+00+0.00000000e+00j,  0.0000000e+00+0.00000000e+00j,\n",
       "        -7.8504625e-09+0.00000000e+00j,  0.0000000e+00+0.00000000e+00j,\n",
       "         0.0000000e+00+0.00000000e+00j,  0.0000000e+00+0.00000000e+00j,\n",
       "         0.0000000e+00+0.00000000e+00j,  0.0000000e+00+0.00000000e+00j,\n",
       "         0.0000000e+00+0.00000000e+00j, -5.0000000e+07+0.00000000e+00j,\n",
       "         0.0000000e+00+0.00000000e+00j,  0.0000000e+00+0.00000000e+00j,\n",
       "        -7.5892723e-25+0.00000000e+00j,  0.0000000e+00+0.00000000e+00j,\n",
       "         0.0000000e+00+0.00000000e+00j, -7.5892723e-25+0.00000000e+00j],\n",
       "       [ 0.0000000e+00+0.00000000e+00j,  1.0455070e-12-2.93947933e-09j,\n",
       "         0.0000000e+00+4.35788211e-25j,  0.0000000e+00+0.00000000e+00j,\n",
       "         1.5896680e-24+3.01918095e-28j, -1.6653345e-08-7.33108181e-13j,\n",
       "         0.0000000e+00-3.05682322e-31j, -1.5896680e-24-3.01918095e-28j,\n",
       "        -5.3719073e-28+1.77850900e-24j,  0.0000000e+00+3.92523125e-09j,\n",
       "        -5.0000000e+07-2.23926628e-12j,  5.3719073e-28-1.77850900e-24j,\n",
       "         1.5061913e-28-3.74897911e-25j,  0.0000000e+00+0.00000000e+00j,\n",
       "         0.0000000e+00+0.00000000e+00j, -1.5061913e-28+3.74897911e-25j],\n",
       "       [ 0.0000000e+00+0.00000000e+00j,  0.0000000e+00+0.00000000e+00j,\n",
       "         0.0000000e+00+0.00000000e+00j,  0.0000000e+00+0.00000000e+00j,\n",
       "         0.0000000e+00+0.00000000e+00j,  0.0000000e+00+0.00000000e+00j,\n",
       "         5.4582046e-34+2.12787216e-30j,  0.0000000e+00+0.00000000e+00j,\n",
       "         2.5000000e+05-3.61824596e-06j,  0.0000000e+00+0.00000000e+00j,\n",
       "         0.0000000e+00+0.00000000e+00j, -2.5000000e+05+1.28254990e+02j,\n",
       "         0.0000000e+00+0.00000000e+00j,  0.0000000e+00+0.00000000e+00j,\n",
       "         0.0000000e+00+0.00000000e+00j,  0.0000000e+00+0.00000000e+00j],\n",
       "       [ 0.0000000e+00+0.00000000e+00j,  0.0000000e+00+0.00000000e+00j,\n",
       "         0.0000000e+00+0.00000000e+00j,  0.0000000e+00+0.00000000e+00j,\n",
       "         0.0000000e+00+0.00000000e+00j,  0.0000000e+00+0.00000000e+00j,\n",
       "         0.0000000e+00+0.00000000e+00j,  0.0000000e+00+0.00000000e+00j,\n",
       "         0.0000000e+00+0.00000000e+00j,  0.0000000e+00+0.00000000e+00j,\n",
       "         0.0000000e+00+0.00000000e+00j,  0.0000000e+00+0.00000000e+00j,\n",
       "        -2.5000000e+05+0.00000000e+00j,  0.0000000e+00+0.00000000e+00j,\n",
       "         0.0000000e+00+0.00000000e+00j,  2.5000000e+05+0.00000000e+00j],\n",
       "       [ 0.0000000e+00+0.00000000e+00j, -3.9116441e-29-1.27123734e-32j,\n",
       "         0.0000000e+00+0.00000000e+00j,  0.0000000e+00+0.00000000e+00j,\n",
       "         0.0000000e+00+0.00000000e+00j,  9.5644043e-34+1.19890379e-28j,\n",
       "         0.0000000e+00+0.00000000e+00j,  0.0000000e+00+0.00000000e+00j,\n",
       "         0.0000000e+00+0.00000000e+00j,  5.3196803e-29+2.61114823e-32j,\n",
       "        -1.2087756e-18+4.71239150e-13j,  0.0000000e+00+0.00000000e+00j,\n",
       "         0.0000000e+00+0.00000000e+00j, -5.0000000e+07-1.28255005e+02j,\n",
       "         0.0000000e+00+0.00000000e+00j,  0.0000000e+00+0.00000000e+00j],\n",
       "       [ 0.0000000e+00+0.00000000e+00j,  0.0000000e+00+0.00000000e+00j,\n",
       "         0.0000000e+00+0.00000000e+00j,  0.0000000e+00+0.00000000e+00j,\n",
       "         0.0000000e+00+0.00000000e+00j,  0.0000000e+00+0.00000000e+00j,\n",
       "         0.0000000e+00+0.00000000e+00j,  0.0000000e+00+0.00000000e+00j,\n",
       "         0.0000000e+00+0.00000000e+00j,  0.0000000e+00+0.00000000e+00j,\n",
       "        -4.9096775e-29+1.06467296e-29j,  0.0000000e+00+0.00000000e+00j,\n",
       "         0.0000000e+00+0.00000000e+00j, -2.2724868e-13+4.71269399e-13j,\n",
       "        -5.0000000e+07-1.28255005e+02j,  0.0000000e+00+0.00000000e+00j],\n",
       "       [ 0.0000000e+00+0.00000000e+00j,  0.0000000e+00+0.00000000e+00j,\n",
       "         0.0000000e+00+0.00000000e+00j,  0.0000000e+00+0.00000000e+00j,\n",
       "         0.0000000e+00+0.00000000e+00j,  0.0000000e+00+0.00000000e+00j,\n",
       "         0.0000000e+00+0.00000000e+00j,  0.0000000e+00+0.00000000e+00j,\n",
       "         0.0000000e+00+0.00000000e+00j,  0.0000000e+00+0.00000000e+00j,\n",
       "         0.0000000e+00+0.00000000e+00j,  0.0000000e+00+0.00000000e+00j,\n",
       "         2.5000000e+05+0.00000000e+00j,  0.0000000e+00+0.00000000e+00j,\n",
       "         0.0000000e+00+0.00000000e+00j, -2.5000000e+05+0.00000000e+00j]],\n",
       "      dtype=complex64)"
      ]
     },
     "execution_count": 14,
     "metadata": {},
     "output_type": "execute_result"
    }
   ],
   "source": [
    "U[0]"
   ]
  },
  {
   "cell_type": "code",
   "execution_count": null,
   "id": "28d937c3",
   "metadata": {},
   "outputs": [],
   "source": []
  }
 ],
 "metadata": {
  "kernelspec": {
   "display_name": "Python 3",
   "language": "python",
   "name": "python3"
  },
  "language_info": {
   "codemirror_mode": {
    "name": "ipython",
    "version": 3
   },
   "file_extension": ".py",
   "mimetype": "text/x-python",
   "name": "python",
   "nbconvert_exporter": "python",
   "pygments_lexer": "ipython3",
   "version": "3.7.3"
  }
 },
 "nbformat": 4,
 "nbformat_minor": 5
}
