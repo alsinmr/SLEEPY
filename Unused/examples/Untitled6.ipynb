{
 "cells": [
  {
   "cell_type": "code",
   "execution_count": 1,
   "id": "9049bb37",
   "metadata": {},
   "outputs": [],
   "source": [
    "import matplotlib.pyplot as plt\n",
    "import sys\n",
    "sys.path.append('/Users/albertsmith/Documents/GitHub.nosync')\n",
    "sys.path.append('/Users/albertsmith/Documents/GitHub')\n",
    "import pyRelaxSim as RS\n",
    "import numpy as np\n",
    "from numpy import pi"
   ]
  },
  {
   "cell_type": "code",
   "execution_count": 2,
   "id": "e89b161d",
   "metadata": {},
   "outputs": [
    {
     "data": {
      "text/plain": [
       "<AxesSubplot:xlabel='t / ms', ylabel='<S0z>'>"
      ]
     },
     "execution_count": 2,
     "metadata": {},
     "output_type": "execute_result"
    },
    {
     "data": {
      "image/png": "[encoded data removed]",
      "text/plain": [
       "<Figure size 432x288 with 1 Axes>"
      ]
     },
     "metadata": {
      "needs_background": "light"
     },
     "output_type": "display_data"
    }
   ],
   "source": [
    "ex0=RS.ExpSys(v0H=600,vr=0,Nucs=['1H','1H'],pwdavg=RS.PowderAvg(q=3)[25],n_gamma=1)\n",
    "ex0.set_inter(Type='CS',i=0,ppm=4)\n",
    "L=RS.Liouvillian(ex0)\n",
    "L.add_relax(Type='T1',i=0,T1=1,Peq=True)\n",
    "L.add_relax(Type='T2',i=0,T2=1)\n",
    "L.add_relax(Type='T1',i=1,T1=1,Peq=True)\n",
    "L.add_relax(Type='T2',i=1,T2=1)\n",
    "U=L.U(Dt=.1)\n",
    "rho=RS.Rho(rho0='zero',detect='S0z')\n",
    "rho.DetProp(U,n=100)\n",
    "rho.plot()"
   ]
  },
  {
   "cell_type": "code",
   "execution_count": 3,
   "id": "5988d7ba",
   "metadata": {},
   "outputs": [
    {
     "data": {
      "text/plain": [
       "array([4.83145275e-05, 4.83145275e-05])"
      ]
     },
     "execution_count": 3,
     "metadata": {},
     "output_type": "execute_result"
    }
   ],
   "source": [
    "ex0.Peq"
   ]
  },
  {
   "cell_type": "code",
   "execution_count": null,
   "id": "edf5d6f1",
   "metadata": {},
   "outputs": [],
   "source": []
  }
 ],
 "metadata": {
  "kernelspec": {
   "display_name": "Python 3",
   "language": "python",
   "name": "python3"
  },
  "language_info": {
   "codemirror_mode": {
    "name": "ipython",
    "version": 3
   },
   "file_extension": ".py",
   "mimetype": "text/x-python",
   "name": "python",
   "nbconvert_exporter": "python",
   "pygments_lexer": "ipython3",
   "version": "3.8.8"
  }
 },
 "nbformat": 4,
 "nbformat_minor": 5
}
